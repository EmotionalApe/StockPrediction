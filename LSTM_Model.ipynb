{
 "cells": [
  {
   "cell_type": "code",
   "execution_count": 1,
   "metadata": {},
   "outputs": [],
   "source": [
    "#!pip install pandas"
   ]
  },
  {
   "cell_type": "code",
   "execution_count": 2,
   "metadata": {},
   "outputs": [],
   "source": [
    "#!pip install matplotlib\n",
    "#!pip install pandas_datareader\n",
    "#!pip install yfinance"
   ]
  },
  {
   "cell_type": "code",
   "execution_count": 3,
   "metadata": {
    "id": "LQ6oo_yD6NqU"
   },
   "outputs": [],
   "source": [
    "# importing required libraries\n",
    "import numpy as np\n",
    "import pandas as pd\n",
    "import matplotlib.pyplot as plt\n",
    "import pandas_datareader as data\n",
    "import yfinance as yf"
   ]
  },
  {
   "cell_type": "code",
   "execution_count": 4,
   "metadata": {
    "id": "iTHfyY_S6hnN"
   },
   "outputs": [],
   "source": [
    "# loading dataset\n",
    "df = yf.Ticker('TSLA')\n",
    "df = df.history(period ='max')"
   ]
  },
  {
   "cell_type": "code",
   "execution_count": 5,
   "metadata": {
    "colab": {
     "base_uri": "https://localhost:8080/",
     "height": 385
    },
    "id": "mclZy-cp6z_D",
    "outputId": "32a75744-3369-4f50-fec6-6ce4f4267101"
   },
   "outputs": [
    {
     "data": {
      "text/html": [
       "<div>\n",
       "<style scoped>\n",
       "    .dataframe tbody tr th:only-of-type {\n",
       "        vertical-align: middle;\n",
       "    }\n",
       "\n",
       "    .dataframe tbody tr th {\n",
       "        vertical-align: top;\n",
       "    }\n",
       "\n",
       "    .dataframe thead th {\n",
       "        text-align: right;\n",
       "    }\n",
       "</style>\n",
       "<table border=\"1\" class=\"dataframe\">\n",
       "  <thead>\n",
       "    <tr style=\"text-align: right;\">\n",
       "      <th></th>\n",
       "      <th>Open</th>\n",
       "      <th>High</th>\n",
       "      <th>Low</th>\n",
       "      <th>Close</th>\n",
       "      <th>Volume</th>\n",
       "      <th>Dividends</th>\n",
       "      <th>Stock Splits</th>\n",
       "    </tr>\n",
       "    <tr>\n",
       "      <th>Date</th>\n",
       "      <th></th>\n",
       "      <th></th>\n",
       "      <th></th>\n",
       "      <th></th>\n",
       "      <th></th>\n",
       "      <th></th>\n",
       "      <th></th>\n",
       "    </tr>\n",
       "  </thead>\n",
       "  <tbody>\n",
       "    <tr>\n",
       "      <th>2010-06-29 00:00:00-04:00</th>\n",
       "      <td>1.266667</td>\n",
       "      <td>1.666667</td>\n",
       "      <td>1.169333</td>\n",
       "      <td>1.592667</td>\n",
       "      <td>281494500</td>\n",
       "      <td>0.0</td>\n",
       "      <td>0.0</td>\n",
       "    </tr>\n",
       "    <tr>\n",
       "      <th>2010-06-30 00:00:00-04:00</th>\n",
       "      <td>1.719333</td>\n",
       "      <td>2.028000</td>\n",
       "      <td>1.553333</td>\n",
       "      <td>1.588667</td>\n",
       "      <td>257806500</td>\n",
       "      <td>0.0</td>\n",
       "      <td>0.0</td>\n",
       "    </tr>\n",
       "    <tr>\n",
       "      <th>2010-07-01 00:00:00-04:00</th>\n",
       "      <td>1.666667</td>\n",
       "      <td>1.728000</td>\n",
       "      <td>1.351333</td>\n",
       "      <td>1.464000</td>\n",
       "      <td>123282000</td>\n",
       "      <td>0.0</td>\n",
       "      <td>0.0</td>\n",
       "    </tr>\n",
       "    <tr>\n",
       "      <th>2010-07-02 00:00:00-04:00</th>\n",
       "      <td>1.533333</td>\n",
       "      <td>1.540000</td>\n",
       "      <td>1.247333</td>\n",
       "      <td>1.280000</td>\n",
       "      <td>77097000</td>\n",
       "      <td>0.0</td>\n",
       "      <td>0.0</td>\n",
       "    </tr>\n",
       "    <tr>\n",
       "      <th>2010-07-06 00:00:00-04:00</th>\n",
       "      <td>1.333333</td>\n",
       "      <td>1.333333</td>\n",
       "      <td>1.055333</td>\n",
       "      <td>1.074000</td>\n",
       "      <td>103003500</td>\n",
       "      <td>0.0</td>\n",
       "      <td>0.0</td>\n",
       "    </tr>\n",
       "  </tbody>\n",
       "</table>\n",
       "</div>"
      ],
      "text/plain": [
       "                               Open      High       Low     Close     Volume  \\\n",
       "Date                                                                           \n",
       "2010-06-29 00:00:00-04:00  1.266667  1.666667  1.169333  1.592667  281494500   \n",
       "2010-06-30 00:00:00-04:00  1.719333  2.028000  1.553333  1.588667  257806500   \n",
       "2010-07-01 00:00:00-04:00  1.666667  1.728000  1.351333  1.464000  123282000   \n",
       "2010-07-02 00:00:00-04:00  1.533333  1.540000  1.247333  1.280000   77097000   \n",
       "2010-07-06 00:00:00-04:00  1.333333  1.333333  1.055333  1.074000  103003500   \n",
       "\n",
       "                           Dividends  Stock Splits  \n",
       "Date                                                \n",
       "2010-06-29 00:00:00-04:00        0.0           0.0  \n",
       "2010-06-30 00:00:00-04:00        0.0           0.0  \n",
       "2010-07-01 00:00:00-04:00        0.0           0.0  \n",
       "2010-07-02 00:00:00-04:00        0.0           0.0  \n",
       "2010-07-06 00:00:00-04:00        0.0           0.0  "
      ]
     },
     "execution_count": 5,
     "metadata": {},
     "output_type": "execute_result"
    }
   ],
   "source": [
    "# showing up a data\n",
    "df.head()"
   ]
  },
  {
   "cell_type": "code",
   "execution_count": 6,
   "metadata": {
    "colab": {
     "base_uri": "https://localhost:8080/"
    },
    "id": "EcT4IN8D-_Cx",
    "outputId": "baba7c20-80af-4d79-8a5e-acb1adef3189"
   },
   "outputs": [
    {
     "data": {
      "text/plain": [
       "<bound method NDFrame.tail of                                  Open        High         Low       Close  \\\n",
       "Date                                                                        \n",
       "2010-06-29 00:00:00-04:00    1.266667    1.666667    1.169333    1.592667   \n",
       "2010-06-30 00:00:00-04:00    1.719333    2.028000    1.553333    1.588667   \n",
       "2010-07-01 00:00:00-04:00    1.666667    1.728000    1.351333    1.464000   \n",
       "2010-07-02 00:00:00-04:00    1.533333    1.540000    1.247333    1.280000   \n",
       "2010-07-06 00:00:00-04:00    1.333333    1.333333    1.055333    1.074000   \n",
       "...                               ...         ...         ...         ...   \n",
       "2023-03-06 00:00:00-05:00  198.539993  198.600006  192.300003  193.809998   \n",
       "2023-03-07 00:00:00-05:00  191.380005  194.199997  186.100006  187.710007   \n",
       "2023-03-08 00:00:00-05:00  185.039993  186.500000  180.000000  182.000000   \n",
       "2023-03-09 00:00:00-05:00  180.250000  185.179993  172.509995  172.919998   \n",
       "2023-03-10 00:00:00-05:00  175.130005  178.289993  168.440002  173.440002   \n",
       "\n",
       "                              Volume  Dividends  Stock Splits  \n",
       "Date                                                           \n",
       "2010-06-29 00:00:00-04:00  281494500        0.0           0.0  \n",
       "2010-06-30 00:00:00-04:00  257806500        0.0           0.0  \n",
       "2010-07-01 00:00:00-04:00  123282000        0.0           0.0  \n",
       "2010-07-02 00:00:00-04:00   77097000        0.0           0.0  \n",
       "2010-07-06 00:00:00-04:00  103003500        0.0           0.0  \n",
       "...                              ...        ...           ...  \n",
       "2023-03-06 00:00:00-05:00  128100100        0.0           0.0  \n",
       "2023-03-07 00:00:00-05:00  148125800        0.0           0.0  \n",
       "2023-03-08 00:00:00-05:00  151897800        0.0           0.0  \n",
       "2023-03-09 00:00:00-05:00  170023800        0.0           0.0  \n",
       "2023-03-10 00:00:00-05:00  191007900        0.0           0.0  \n",
       "\n",
       "[3197 rows x 7 columns]>"
      ]
     },
     "execution_count": 6,
     "metadata": {},
     "output_type": "execute_result"
    }
   ],
   "source": [
    "df.tail"
   ]
  },
  {
   "cell_type": "code",
   "execution_count": 7,
   "metadata": {
    "colab": {
     "base_uri": "https://localhost:8080/",
     "height": 441
    },
    "id": "0SuIkCX5_Ig9",
    "outputId": "24ee4d15-edc9-47a3-88e0-9bf41ed2e7df"
   },
   "outputs": [
    {
     "data": {
      "text/html": [
       "<div>\n",
       "<style scoped>\n",
       "    .dataframe tbody tr th:only-of-type {\n",
       "        vertical-align: middle;\n",
       "    }\n",
       "\n",
       "    .dataframe tbody tr th {\n",
       "        vertical-align: top;\n",
       "    }\n",
       "\n",
       "    .dataframe thead th {\n",
       "        text-align: right;\n",
       "    }\n",
       "</style>\n",
       "<table border=\"1\" class=\"dataframe\">\n",
       "  <thead>\n",
       "    <tr style=\"text-align: right;\">\n",
       "      <th></th>\n",
       "      <th>Date</th>\n",
       "      <th>Open</th>\n",
       "      <th>High</th>\n",
       "      <th>Low</th>\n",
       "      <th>Close</th>\n",
       "      <th>Volume</th>\n",
       "      <th>Dividends</th>\n",
       "      <th>Stock Splits</th>\n",
       "    </tr>\n",
       "  </thead>\n",
       "  <tbody>\n",
       "    <tr>\n",
       "      <th>0</th>\n",
       "      <td>2010-06-29 00:00:00-04:00</td>\n",
       "      <td>1.266667</td>\n",
       "      <td>1.666667</td>\n",
       "      <td>1.169333</td>\n",
       "      <td>1.592667</td>\n",
       "      <td>281494500</td>\n",
       "      <td>0.0</td>\n",
       "      <td>0.0</td>\n",
       "    </tr>\n",
       "    <tr>\n",
       "      <th>1</th>\n",
       "      <td>2010-06-30 00:00:00-04:00</td>\n",
       "      <td>1.719333</td>\n",
       "      <td>2.028000</td>\n",
       "      <td>1.553333</td>\n",
       "      <td>1.588667</td>\n",
       "      <td>257806500</td>\n",
       "      <td>0.0</td>\n",
       "      <td>0.0</td>\n",
       "    </tr>\n",
       "    <tr>\n",
       "      <th>2</th>\n",
       "      <td>2010-07-01 00:00:00-04:00</td>\n",
       "      <td>1.666667</td>\n",
       "      <td>1.728000</td>\n",
       "      <td>1.351333</td>\n",
       "      <td>1.464000</td>\n",
       "      <td>123282000</td>\n",
       "      <td>0.0</td>\n",
       "      <td>0.0</td>\n",
       "    </tr>\n",
       "    <tr>\n",
       "      <th>3</th>\n",
       "      <td>2010-07-02 00:00:00-04:00</td>\n",
       "      <td>1.533333</td>\n",
       "      <td>1.540000</td>\n",
       "      <td>1.247333</td>\n",
       "      <td>1.280000</td>\n",
       "      <td>77097000</td>\n",
       "      <td>0.0</td>\n",
       "      <td>0.0</td>\n",
       "    </tr>\n",
       "    <tr>\n",
       "      <th>4</th>\n",
       "      <td>2010-07-06 00:00:00-04:00</td>\n",
       "      <td>1.333333</td>\n",
       "      <td>1.333333</td>\n",
       "      <td>1.055333</td>\n",
       "      <td>1.074000</td>\n",
       "      <td>103003500</td>\n",
       "      <td>0.0</td>\n",
       "      <td>0.0</td>\n",
       "    </tr>\n",
       "  </tbody>\n",
       "</table>\n",
       "</div>"
      ],
      "text/plain": [
       "                       Date      Open      High       Low     Close  \\\n",
       "0 2010-06-29 00:00:00-04:00  1.266667  1.666667  1.169333  1.592667   \n",
       "1 2010-06-30 00:00:00-04:00  1.719333  2.028000  1.553333  1.588667   \n",
       "2 2010-07-01 00:00:00-04:00  1.666667  1.728000  1.351333  1.464000   \n",
       "3 2010-07-02 00:00:00-04:00  1.533333  1.540000  1.247333  1.280000   \n",
       "4 2010-07-06 00:00:00-04:00  1.333333  1.333333  1.055333  1.074000   \n",
       "\n",
       "      Volume  Dividends  Stock Splits  \n",
       "0  281494500        0.0           0.0  \n",
       "1  257806500        0.0           0.0  \n",
       "2  123282000        0.0           0.0  \n",
       "3   77097000        0.0           0.0  \n",
       "4  103003500        0.0           0.0  "
      ]
     },
     "execution_count": 7,
     "metadata": {},
     "output_type": "execute_result"
    }
   ],
   "source": [
    "df = df.reset_index()\n",
    "df.head()"
   ]
  },
  {
   "cell_type": "markdown",
   "metadata": {
    "id": "LJUP-wqLAhxG"
   },
   "source": [
    "# Cleaning and visualizing our stock market data"
   ]
  },
  {
   "cell_type": "code",
   "execution_count": 8,
   "metadata": {
    "colab": {
     "base_uri": "https://localhost:8080/",
     "height": 206
    },
    "id": "sFFES0b4_WAW",
    "outputId": "c243652d-f8de-4fab-e0db-04dc8bfed501"
   },
   "outputs": [
    {
     "data": {
      "text/html": [
       "<div>\n",
       "<style scoped>\n",
       "    .dataframe tbody tr th:only-of-type {\n",
       "        vertical-align: middle;\n",
       "    }\n",
       "\n",
       "    .dataframe tbody tr th {\n",
       "        vertical-align: top;\n",
       "    }\n",
       "\n",
       "    .dataframe thead th {\n",
       "        text-align: right;\n",
       "    }\n",
       "</style>\n",
       "<table border=\"1\" class=\"dataframe\">\n",
       "  <thead>\n",
       "    <tr style=\"text-align: right;\">\n",
       "      <th></th>\n",
       "      <th>Open</th>\n",
       "      <th>High</th>\n",
       "      <th>Low</th>\n",
       "      <th>Close</th>\n",
       "      <th>Volume</th>\n",
       "    </tr>\n",
       "  </thead>\n",
       "  <tbody>\n",
       "    <tr>\n",
       "      <th>0</th>\n",
       "      <td>1.266667</td>\n",
       "      <td>1.666667</td>\n",
       "      <td>1.169333</td>\n",
       "      <td>1.592667</td>\n",
       "      <td>281494500</td>\n",
       "    </tr>\n",
       "    <tr>\n",
       "      <th>1</th>\n",
       "      <td>1.719333</td>\n",
       "      <td>2.028000</td>\n",
       "      <td>1.553333</td>\n",
       "      <td>1.588667</td>\n",
       "      <td>257806500</td>\n",
       "    </tr>\n",
       "    <tr>\n",
       "      <th>2</th>\n",
       "      <td>1.666667</td>\n",
       "      <td>1.728000</td>\n",
       "      <td>1.351333</td>\n",
       "      <td>1.464000</td>\n",
       "      <td>123282000</td>\n",
       "    </tr>\n",
       "    <tr>\n",
       "      <th>3</th>\n",
       "      <td>1.533333</td>\n",
       "      <td>1.540000</td>\n",
       "      <td>1.247333</td>\n",
       "      <td>1.280000</td>\n",
       "      <td>77097000</td>\n",
       "    </tr>\n",
       "    <tr>\n",
       "      <th>4</th>\n",
       "      <td>1.333333</td>\n",
       "      <td>1.333333</td>\n",
       "      <td>1.055333</td>\n",
       "      <td>1.074000</td>\n",
       "      <td>103003500</td>\n",
       "    </tr>\n",
       "  </tbody>\n",
       "</table>\n",
       "</div>"
      ],
      "text/plain": [
       "       Open      High       Low     Close     Volume\n",
       "0  1.266667  1.666667  1.169333  1.592667  281494500\n",
       "1  1.719333  2.028000  1.553333  1.588667  257806500\n",
       "2  1.666667  1.728000  1.351333  1.464000  123282000\n",
       "3  1.533333  1.540000  1.247333  1.280000   77097000\n",
       "4  1.333333  1.333333  1.055333  1.074000  103003500"
      ]
     },
     "execution_count": 8,
     "metadata": {},
     "output_type": "execute_result"
    }
   ],
   "source": [
    "df = df.drop(['Date','Dividends', 'Stock Splits'], axis =1)\n",
    "df.head()"
   ]
  },
  {
   "cell_type": "code",
   "execution_count": 9,
   "metadata": {
    "colab": {
     "base_uri": "https://localhost:8080/",
     "height": 282
    },
    "id": "XM8nQKcx_xw5",
    "outputId": "58eb99cb-a450-463e-a50c-e361531e8b84"
   },
   "outputs": [
    {
     "data": {
      "text/plain": [
       "[<matplotlib.lines.Line2D at 0x25993d41388>]"
      ]
     },
     "execution_count": 9,
     "metadata": {},
     "output_type": "execute_result"
    },
    {
     "data": {
      "image/png": "[encoded data removed]",
      "text/plain": [
       "<Figure size 640x480 with 1 Axes>"
      ]
     },
     "metadata": {},
     "output_type": "display_data"
    }
   ],
   "source": [
    "plt.plot(df.Close)"
   ]
  },
  {
   "cell_type": "code",
   "execution_count": 10,
   "metadata": {
    "colab": {
     "base_uri": "https://localhost:8080/"
    },
    "id": "kHdO7fY-ABMJ",
    "outputId": "d35cda88-6220-4290-b02f-c5df62c056ce"
   },
   "outputs": [
    {
     "data": {
      "text/plain": [
       "0            NaN\n",
       "1            NaN\n",
       "2            NaN\n",
       "3            NaN\n",
       "4            NaN\n",
       "          ...   \n",
       "3192    177.7669\n",
       "3193    177.4790\n",
       "3194    177.1266\n",
       "3195    176.6386\n",
       "3196    176.3231\n",
       "Name: Close, Length: 3197, dtype: float64"
      ]
     },
     "execution_count": 10,
     "metadata": {},
     "output_type": "execute_result"
    }
   ],
   "source": [
    "# Applying a 100 days moving average\n",
    "ma100 = df.Close.rolling(100).mean()\n",
    "ma100"
   ]
  },
  {
   "cell_type": "code",
   "execution_count": 11,
   "metadata": {
    "colab": {
     "base_uri": "https://localhost:8080/",
     "height": 359
    },
    "id": "_857UjukAveG",
    "outputId": "1489fdbb-c171-46b2-ea48-ae988c40799c"
   },
   "outputs": [
    {
     "data": {
      "text/plain": [
       "[<matplotlib.lines.Line2D at 0x25995567f48>]"
      ]
     },
     "execution_count": 11,
     "metadata": {},
     "output_type": "execute_result"
    },
    {
     "data": {
      "image/png": "[encoded data removed]",
      "text/plain": [
       "<Figure size 1200x600 with 1 Axes>"
      ]
     },
     "metadata": {},
     "output_type": "display_data"
    }
   ],
   "source": [
    "#plotting a data & average\n",
    "plt.figure(figsize = (12,6))\n",
    "plt.plot(df.Close)\n",
    "plt.plot(ma100,'r')"
   ]
  },
  {
   "cell_type": "code",
   "execution_count": 12,
   "metadata": {
    "colab": {
     "base_uri": "https://localhost:8080/"
    },
    "id": "-rXwOQuwBHsY",
    "outputId": "b01f2c5f-02cd-470a-e91c-8c6a8101f59e"
   },
   "outputs": [
    {
     "data": {
      "text/plain": [
       "0              NaN\n",
       "1              NaN\n",
       "2              NaN\n",
       "3              NaN\n",
       "4              NaN\n",
       "           ...    \n",
       "3192    220.357884\n",
       "3193    220.113417\n",
       "3194    219.841050\n",
       "3195    219.599150\n",
       "3196    219.341517\n",
       "Name: Close, Length: 3197, dtype: float64"
      ]
     },
     "execution_count": 12,
     "metadata": {},
     "output_type": "execute_result"
    }
   ],
   "source": [
    "# Applying a 200 days moving average\n",
    "ma200 = df.Close.rolling(200).mean()\n",
    "ma200"
   ]
  },
  {
   "cell_type": "code",
   "execution_count": 13,
   "metadata": {
    "colab": {
     "base_uri": "https://localhost:8080/",
     "height": 359
    },
    "id": "XhXnQ5d_Bgnx",
    "outputId": "b2ba7e45-03a4-4e2e-b12a-b14d136c9533"
   },
   "outputs": [
    {
     "data": {
      "text/plain": [
       "[<matplotlib.lines.Line2D at 0x259955c8f08>]"
      ]
     },
     "execution_count": 13,
     "metadata": {},
     "output_type": "execute_result"
    },
    {
     "data": {
      "image/png": "[encoded data removed]",
      "text/plain": [
       "<Figure size 1200x600 with 1 Axes>"
      ]
     },
     "metadata": {},
     "output_type": "display_data"
    }
   ],
   "source": [
    "plt.figure(figsize = (12,6))\n",
    "plt.plot(df.Close)\n",
    "plt.plot(ma100, 'r')\n",
    "plt.plot(ma200, 'g')"
   ]
  },
  {
   "cell_type": "code",
   "execution_count": 14,
   "metadata": {
    "colab": {
     "base_uri": "https://localhost:8080/"
    },
    "id": "ElOwQ0-PCe4d",
    "outputId": "3455be2e-7989-423e-c118-9b5d9b6ebc6f"
   },
   "outputs": [
    {
     "data": {
      "text/plain": [
       "(3197, 5)"
      ]
     },
     "execution_count": 14,
     "metadata": {},
     "output_type": "execute_result"
    }
   ],
   "source": [
    "df.shape"
   ]
  },
  {
   "cell_type": "markdown",
   "metadata": {
    "id": "AY_eODSVC5tL"
   },
   "source": [
    "# Spliting a data into training & testing"
   ]
  },
  {
   "cell_type": "code",
   "execution_count": 15,
   "metadata": {
    "colab": {
     "base_uri": "https://localhost:8080/"
    },
    "id": "DKM47CUyCw_n",
    "outputId": "c7c5d44b-894a-452f-b9a1-3898c4915452"
   },
   "outputs": [
    {
     "name": "stdout",
     "output_type": "stream",
     "text": [
      "(2237, 1)\n",
      "(960, 1)\n"
     ]
    }
   ],
   "source": [
    "data_training = pd.DataFrame(df['Close'][0:int(len(df)*0.70)])\n",
    "data_testing = pd.DataFrame(df['Close'][int(len(df)*0.70):int(len(df))])\n",
    "\n",
    "print(data_training.shape)\n",
    "print(data_testing.shape)"
   ]
  },
  {
   "cell_type": "code",
   "execution_count": 16,
   "metadata": {
    "colab": {
     "base_uri": "https://localhost:8080/",
     "height": 206
    },
    "id": "WWSJlWJAD4Gv",
    "outputId": "7107234f-217e-41db-aa6e-6bf566030354"
   },
   "outputs": [
    {
     "data": {
      "text/html": [
       "<div>\n",
       "<style scoped>\n",
       "    .dataframe tbody tr th:only-of-type {\n",
       "        vertical-align: middle;\n",
       "    }\n",
       "\n",
       "    .dataframe tbody tr th {\n",
       "        vertical-align: top;\n",
       "    }\n",
       "\n",
       "    .dataframe thead th {\n",
       "        text-align: right;\n",
       "    }\n",
       "</style>\n",
       "<table border=\"1\" class=\"dataframe\">\n",
       "  <thead>\n",
       "    <tr style=\"text-align: right;\">\n",
       "      <th></th>\n",
       "      <th>Close</th>\n",
       "    </tr>\n",
       "  </thead>\n",
       "  <tbody>\n",
       "    <tr>\n",
       "      <th>0</th>\n",
       "      <td>1.592667</td>\n",
       "    </tr>\n",
       "    <tr>\n",
       "      <th>1</th>\n",
       "      <td>1.588667</td>\n",
       "    </tr>\n",
       "    <tr>\n",
       "      <th>2</th>\n",
       "      <td>1.464000</td>\n",
       "    </tr>\n",
       "    <tr>\n",
       "      <th>3</th>\n",
       "      <td>1.280000</td>\n",
       "    </tr>\n",
       "    <tr>\n",
       "      <th>4</th>\n",
       "      <td>1.074000</td>\n",
       "    </tr>\n",
       "  </tbody>\n",
       "</table>\n",
       "</div>"
      ],
      "text/plain": [
       "      Close\n",
       "0  1.592667\n",
       "1  1.588667\n",
       "2  1.464000\n",
       "3  1.280000\n",
       "4  1.074000"
      ]
     },
     "execution_count": 16,
     "metadata": {},
     "output_type": "execute_result"
    }
   ],
   "source": [
    "data_training.head()"
   ]
  },
  {
   "cell_type": "code",
   "execution_count": 17,
   "metadata": {
    "colab": {
     "base_uri": "https://localhost:8080/",
     "height": 206
    },
    "id": "EKQOz8_2EO4I",
    "outputId": "7a4ec616-c1c3-485f-d792-a5c1a9bf7ee5"
   },
   "outputs": [
    {
     "data": {
      "text/html": [
       "<div>\n",
       "<style scoped>\n",
       "    .dataframe tbody tr th:only-of-type {\n",
       "        vertical-align: middle;\n",
       "    }\n",
       "\n",
       "    .dataframe tbody tr th {\n",
       "        vertical-align: top;\n",
       "    }\n",
       "\n",
       "    .dataframe thead th {\n",
       "        text-align: right;\n",
       "    }\n",
       "</style>\n",
       "<table border=\"1\" class=\"dataframe\">\n",
       "  <thead>\n",
       "    <tr style=\"text-align: right;\">\n",
       "      <th></th>\n",
       "      <th>Close</th>\n",
       "    </tr>\n",
       "  </thead>\n",
       "  <tbody>\n",
       "    <tr>\n",
       "      <th>2237</th>\n",
       "      <td>13.690667</td>\n",
       "    </tr>\n",
       "    <tr>\n",
       "      <th>2238</th>\n",
       "      <td>13.672000</td>\n",
       "    </tr>\n",
       "    <tr>\n",
       "      <th>2239</th>\n",
       "      <td>12.848667</td>\n",
       "    </tr>\n",
       "    <tr>\n",
       "      <th>2240</th>\n",
       "      <td>13.032667</td>\n",
       "    </tr>\n",
       "    <tr>\n",
       "      <th>2241</th>\n",
       "      <td>12.708667</td>\n",
       "    </tr>\n",
       "  </tbody>\n",
       "</table>\n",
       "</div>"
      ],
      "text/plain": [
       "          Close\n",
       "2237  13.690667\n",
       "2238  13.672000\n",
       "2239  12.848667\n",
       "2240  13.032667\n",
       "2241  12.708667"
      ]
     },
     "execution_count": 17,
     "metadata": {},
     "output_type": "execute_result"
    }
   ],
   "source": [
    "data_testing.head()"
   ]
  },
  {
   "cell_type": "code",
   "execution_count": 18,
   "metadata": {},
   "outputs": [],
   "source": [
    "# !pip install scikit-learn"
   ]
  },
  {
   "cell_type": "markdown",
   "metadata": {
    "id": "EMr3BZeKMmt9"
   },
   "source": [
    "# Feature Scaling"
   ]
  },
  {
   "cell_type": "code",
   "execution_count": 19,
   "metadata": {
    "id": "PMWWhtF0ET8D"
   },
   "outputs": [],
   "source": [
    "# from sklearn.preprocessing import MinMaxScaler\n",
    "# scaler = MinMaxScaler(feature_range=(0,1))\n",
    "\n",
    "from sklearn.preprocessing import MinMaxScaler\n",
    "scaler = MinMaxScaler(feature_range=(0,1))"
   ]
  },
  {
   "cell_type": "code",
   "execution_count": 20,
   "metadata": {
    "colab": {
     "base_uri": "https://localhost:8080/"
    },
    "id": "lVkWIRKWFNuV",
    "outputId": "fe755c86-ce2b-49c2-b84b-8216e531bcbc"
   },
   "outputs": [
    {
     "data": {
      "text/plain": [
       "array([[0.02191227],\n",
       "       [0.02174975],\n",
       "       [0.01668473],\n",
       "       ...,\n",
       "       [0.585455  ],\n",
       "       [0.57565003],\n",
       "       [0.52879199]])"
      ]
     },
     "execution_count": 20,
     "metadata": {},
     "output_type": "execute_result"
    }
   ],
   "source": [
    "data_training_array = scaler.fit_transform(data_training)\n",
    "data_training_array"
   ]
  },
  {
   "cell_type": "code",
   "execution_count": 21,
   "metadata": {
    "colab": {
     "base_uri": "https://localhost:8080/"
    },
    "id": "m0o9nmqkGnWh",
    "outputId": "26a5cbbf-d4e8-47f2-870b-d8f906278424"
   },
   "outputs": [
    {
     "data": {
      "text/plain": [
       "(2237, 1)"
      ]
     },
     "execution_count": 21,
     "metadata": {},
     "output_type": "execute_result"
    }
   ],
   "source": [
    "data_training_array.shape"
   ]
  },
  {
   "cell_type": "code",
   "execution_count": 22,
   "metadata": {
    "id": "KpQr5qoSFaEF"
   },
   "outputs": [],
   "source": [
    "X_train = []\n",
    "y_train = []\n",
    "\n",
    "for i in range(100, data_training_array.shape[0]):\n",
    "  X_train.append(data_training_array[i-100: i])\n",
    "  y_train.append(data_training_array[i,0])\n",
    "\n",
    "X_train, y_train = np.array(X_train), np.array(y_train)"
   ]
  },
  {
   "cell_type": "code",
   "execution_count": 23,
   "metadata": {},
   "outputs": [],
   "source": [
    "#!pip3 install keras"
   ]
  },
  {
   "cell_type": "code",
   "execution_count": 24,
   "metadata": {},
   "outputs": [],
   "source": [
    "#!pip install -U tensorflow"
   ]
  },
  {
   "cell_type": "code",
   "execution_count": 25,
   "metadata": {
    "id": "O7wjkPLVHDPj"
   },
   "outputs": [],
   "source": [
    "#ML Model\n",
    "from tensorflow import keras\n",
    "from keras.layers import Dense, Dropout, LSTM\n",
    "from keras.models import Sequential"
   ]
  },
  {
   "cell_type": "code",
   "execution_count": 26,
   "metadata": {
    "id": "KcqAalBUH5SL"
   },
   "outputs": [],
   "source": [
    "model = Sequential()\n",
    "\n",
    "model.add(LSTM(units=50, activation='relu', return_sequences = True, input_shape=(X_train.shape[1], 1)))\n",
    "model.add(Dropout(0.2))\n",
    "\n",
    "model.add(LSTM(units=60, activation='relu', return_sequences = True))\n",
    "model.add(Dropout(0.3))\n",
    "\n",
    "model.add(LSTM(units=80, activation='relu', return_sequences = True))\n",
    "model.add(Dropout(0.4))\n",
    "\n",
    "model.add(LSTM(units=120, activation='relu'))\n",
    "model.add(Dropout(0.5))\n",
    "\n",
    "model.add(Dense(units=1))"
   ]
  },
  {
   "cell_type": "code",
   "execution_count": 27,
   "metadata": {
    "colab": {
     "base_uri": "https://localhost:8080/"
    },
    "id": "y0Sn685IJocj",
    "outputId": "b437244d-046f-4aad-84c9-74d5e0c42b7f"
   },
   "outputs": [
    {
     "name": "stdout",
     "output_type": "stream",
     "text": [
      "Model: \"sequential\"\n",
      "_________________________________________________________________\n",
      " Layer (type)                Output Shape              Param #   \n",
      "=================================================================\n",
      " lstm (LSTM)                 (None, 100, 50)           10400     \n",
      "                                                                 \n",
      " dropout (Dropout)           (None, 100, 50)           0         \n",
      "                                                                 \n",
      " lstm_1 (LSTM)               (None, 100, 60)           26640     \n",
      "                                                                 \n",
      " dropout_1 (Dropout)         (None, 100, 60)           0         \n",
      "                                                                 \n",
      " lstm_2 (LSTM)               (None, 100, 80)           45120     \n",
      "                                                                 \n",
      " dropout_2 (Dropout)         (None, 100, 80)           0         \n",
      "                                                                 \n",
      " lstm_3 (LSTM)               (None, 120)               96480     \n",
      "                                                                 \n",
      " dropout_3 (Dropout)         (None, 120)               0         \n",
      "                                                                 \n",
      " dense (Dense)               (None, 1)                 121       \n",
      "                                                                 \n",
      "=================================================================\n",
      "Total params: 178,761\n",
      "Trainable params: 178,761\n",
      "Non-trainable params: 0\n",
      "_________________________________________________________________\n"
     ]
    }
   ],
   "source": [
    "model.summary()"
   ]
  },
  {
   "cell_type": "code",
   "execution_count": 28,
   "metadata": {
    "colab": {
     "base_uri": "https://localhost:8080/"
    },
    "id": "86tAkVqgJtD5",
    "outputId": "60ff681a-0f63-4052-e075-4b81ddad1018"
   },
   "outputs": [
    {
     "name": "stdout",
     "output_type": "stream",
     "text": [
      "Epoch 1/50\n",
      "67/67 [==============================] - 21s 180ms/step - loss: 0.0563\n",
      "Epoch 2/50\n",
      "67/67 [==============================] - 16s 237ms/step - loss: 0.0125\n",
      "Epoch 3/50\n",
      "67/67 [==============================] - 19s 284ms/step - loss: 0.0104\n",
      "Epoch 4/50\n",
      "67/67 [==============================] - 17s 257ms/step - loss: 0.0107\n",
      "Epoch 5/50\n",
      "67/67 [==============================] - 23s 337ms/step - loss: 0.0101\n",
      "Epoch 6/50\n",
      "67/67 [==============================] - 23s 339ms/step - loss: 0.0089\n",
      "Epoch 7/50\n",
      "67/67 [==============================] - 16s 245ms/step - loss: 0.0092\n",
      "Epoch 8/50\n",
      "67/67 [==============================] - 17s 250ms/step - loss: 0.0070\n",
      "Epoch 9/50\n",
      "67/67 [==============================] - 17s 250ms/step - loss: 0.0087\n",
      "Epoch 10/50\n",
      "67/67 [==============================] - 17s 253ms/step - loss: 0.0077\n",
      "Epoch 11/50\n",
      "67/67 [==============================] - 17s 251ms/step - loss: 0.0074\n",
      "Epoch 12/50\n",
      "67/67 [==============================] - 17s 250ms/step - loss: 0.0076\n",
      "Epoch 13/50\n",
      "67/67 [==============================] - 17s 256ms/step - loss: 0.0071\n",
      "Epoch 14/50\n",
      "67/67 [==============================] - 17s 256ms/step - loss: 0.0068\n",
      "Epoch 15/50\n",
      "67/67 [==============================] - 17s 254ms/step - loss: 0.0065\n",
      "Epoch 16/50\n",
      "67/67 [==============================] - 17s 252ms/step - loss: 0.0061\n",
      "Epoch 17/50\n",
      "67/67 [==============================] - 17s 256ms/step - loss: 0.0067\n",
      "Epoch 18/50\n",
      "67/67 [==============================] - 17s 252ms/step - loss: 0.0060\n",
      "Epoch 19/50\n",
      "67/67 [==============================] - 17s 255ms/step - loss: 0.0061\n",
      "Epoch 20/50\n",
      "67/67 [==============================] - 17s 258ms/step - loss: 0.0060\n",
      "Epoch 21/50\n",
      "67/67 [==============================] - 17s 255ms/step - loss: 0.0059\n",
      "Epoch 22/50\n",
      "67/67 [==============================] - 17s 259ms/step - loss: 0.0060\n",
      "Epoch 23/50\n",
      "67/67 [==============================] - 17s 256ms/step - loss: 0.0059\n",
      "Epoch 24/50\n",
      "67/67 [==============================] - 17s 253ms/step - loss: 0.0054\n",
      "Epoch 25/50\n",
      "67/67 [==============================] - 17s 254ms/step - loss: 0.0052\n",
      "Epoch 26/50\n",
      "67/67 [==============================] - 17s 250ms/step - loss: 0.0052\n",
      "Epoch 27/50\n",
      "67/67 [==============================] - 17s 253ms/step - loss: 0.0052\n",
      "Epoch 28/50\n",
      "67/67 [==============================] - 17s 256ms/step - loss: 0.0050\n",
      "Epoch 29/50\n",
      "67/67 [==============================] - 17s 255ms/step - loss: 0.0051\n",
      "Epoch 30/50\n",
      "67/67 [==============================] - 18s 261ms/step - loss: 0.0053\n",
      "Epoch 31/50\n",
      "67/67 [==============================] - 17s 261ms/step - loss: 0.0046\n",
      "Epoch 32/50\n",
      "67/67 [==============================] - 18s 263ms/step - loss: 0.0055\n",
      "Epoch 33/50\n",
      "67/67 [==============================] - 18s 263ms/step - loss: 0.0052\n",
      "Epoch 34/50\n",
      "67/67 [==============================] - 17s 259ms/step - loss: 0.0049\n",
      "Epoch 35/50\n",
      "67/67 [==============================] - 17s 255ms/step - loss: 0.0053\n",
      "Epoch 36/50\n",
      "67/67 [==============================] - 17s 256ms/step - loss: 0.0051\n",
      "Epoch 37/50\n",
      "67/67 [==============================] - 17s 255ms/step - loss: 0.0047\n",
      "Epoch 38/50\n",
      "67/67 [==============================] - 17s 248ms/step - loss: 0.0052\n",
      "Epoch 39/50\n",
      "67/67 [==============================] - 17s 249ms/step - loss: 0.0050\n",
      "Epoch 40/50\n",
      "67/67 [==============================] - 16s 245ms/step - loss: 0.0044\n",
      "Epoch 41/50\n",
      "67/67 [==============================] - 17s 253ms/step - loss: 0.0045\n",
      "Epoch 42/50\n",
      "67/67 [==============================] - 17s 256ms/step - loss: 0.0050\n",
      "Epoch 43/50\n",
      "67/67 [==============================] - 17s 248ms/step - loss: 0.0047\n",
      "Epoch 44/50\n",
      "67/67 [==============================] - 17s 249ms/step - loss: 0.0046\n",
      "Epoch 45/50\n",
      "67/67 [==============================] - 17s 255ms/step - loss: 0.0046\n",
      "Epoch 46/50\n",
      "67/67 [==============================] - 17s 255ms/step - loss: 0.0046\n",
      "Epoch 47/50\n",
      "67/67 [==============================] - 17s 247ms/step - loss: 0.0047\n",
      "Epoch 48/50\n",
      "67/67 [==============================] - 16s 246ms/step - loss: 0.0049\n",
      "Epoch 49/50\n",
      "67/67 [==============================] - 18s 262ms/step - loss: 0.0044\n",
      "Epoch 50/50\n",
      "67/67 [==============================] - 16s 238ms/step - loss: 0.0043\n"
     ]
    },
    {
     "data": {
      "text/plain": [
       "<keras.callbacks.History at 0x259a04efb48>"
      ]
     },
     "execution_count": 28,
     "metadata": {},
     "output_type": "execute_result"
    }
   ],
   "source": [
    "# model.compile(optimizer='adam', loss='mean_squared_error')\n",
    "# model.fit(X_train, y_train, epochs=50)"
   ]
  },
  {
   "cell_type": "code",
   "execution_count": 29,
   "metadata": {
    "id": "xs0hq8PoOdam"
   },
   "outputs": [],
   "source": [
    "# model.save('keras_model.h5')"
   ]
  },
  {
   "cell_type": "code",
   "execution_count": 30,
   "metadata": {
    "colab": {
     "base_uri": "https://localhost:8080/",
     "height": 206
    },
    "id": "-3vdd1ESTGQC",
    "outputId": "c0daf218-18c0-415c-effd-97385d0cf44e"
   },
   "outputs": [
    {
     "data": {
      "text/html": [
       "<div>\n",
       "<style scoped>\n",
       "    .dataframe tbody tr th:only-of-type {\n",
       "        vertical-align: middle;\n",
       "    }\n",
       "\n",
       "    .dataframe tbody tr th {\n",
       "        vertical-align: top;\n",
       "    }\n",
       "\n",
       "    .dataframe thead th {\n",
       "        text-align: right;\n",
       "    }\n",
       "</style>\n",
       "<table border=\"1\" class=\"dataframe\">\n",
       "  <thead>\n",
       "    <tr style=\"text-align: right;\">\n",
       "      <th></th>\n",
       "      <th>Close</th>\n",
       "    </tr>\n",
       "  </thead>\n",
       "  <tbody>\n",
       "    <tr>\n",
       "      <th>2237</th>\n",
       "      <td>13.690667</td>\n",
       "    </tr>\n",
       "    <tr>\n",
       "      <th>2238</th>\n",
       "      <td>13.672000</td>\n",
       "    </tr>\n",
       "    <tr>\n",
       "      <th>2239</th>\n",
       "      <td>12.848667</td>\n",
       "    </tr>\n",
       "    <tr>\n",
       "      <th>2240</th>\n",
       "      <td>13.032667</td>\n",
       "    </tr>\n",
       "    <tr>\n",
       "      <th>2241</th>\n",
       "      <td>12.708667</td>\n",
       "    </tr>\n",
       "  </tbody>\n",
       "</table>\n",
       "</div>"
      ],
      "text/plain": [
       "          Close\n",
       "2237  13.690667\n",
       "2238  13.672000\n",
       "2239  12.848667\n",
       "2240  13.032667\n",
       "2241  12.708667"
      ]
     },
     "execution_count": 30,
     "metadata": {},
     "output_type": "execute_result"
    }
   ],
   "source": [
    "data_testing.head()"
   ]
  },
  {
   "cell_type": "code",
   "execution_count": 31,
   "metadata": {
    "id": "ChQamLaoUmh9"
   },
   "outputs": [],
   "source": [
    "past_100_days = data_training.tail(100)"
   ]
  },
  {
   "cell_type": "code",
   "execution_count": 32,
   "metadata": {
    "colab": {
     "base_uri": "https://localhost:8080/"
    },
    "id": "cDOb46liU4fG",
    "outputId": "9903df6b-eb6a-4ef2-8899-148f8c14bb49"
   },
   "outputs": [],
   "source": [
    "final_df = past_100_days.append(data_testing, ignore_index=True)"
   ]
  },
  {
   "cell_type": "code",
   "execution_count": 33,
   "metadata": {
    "colab": {
     "base_uri": "https://localhost:8080/",
     "height": 206
    },
    "id": "wHiTOIk8VAPP",
    "outputId": "d27431b4-aedd-46f0-cef4-c846ade3606d"
   },
   "outputs": [
    {
     "data": {
      "text/html": [
       "<div>\n",
       "<style scoped>\n",
       "    .dataframe tbody tr th:only-of-type {\n",
       "        vertical-align: middle;\n",
       "    }\n",
       "\n",
       "    .dataframe tbody tr th {\n",
       "        vertical-align: top;\n",
       "    }\n",
       "\n",
       "    .dataframe thead th {\n",
       "        text-align: right;\n",
       "    }\n",
       "</style>\n",
       "<table border=\"1\" class=\"dataframe\">\n",
       "  <thead>\n",
       "    <tr style=\"text-align: right;\">\n",
       "      <th></th>\n",
       "      <th>Close</th>\n",
       "    </tr>\n",
       "  </thead>\n",
       "  <tbody>\n",
       "    <tr>\n",
       "      <th>0</th>\n",
       "      <td>19.692667</td>\n",
       "    </tr>\n",
       "    <tr>\n",
       "      <th>1</th>\n",
       "      <td>21.739332</td>\n",
       "    </tr>\n",
       "    <tr>\n",
       "      <th>2</th>\n",
       "      <td>21.075333</td>\n",
       "    </tr>\n",
       "    <tr>\n",
       "      <th>3</th>\n",
       "      <td>22.257999</td>\n",
       "    </tr>\n",
       "    <tr>\n",
       "      <th>4</th>\n",
       "      <td>22.186666</td>\n",
       "    </tr>\n",
       "  </tbody>\n",
       "</table>\n",
       "</div>"
      ],
      "text/plain": [
       "       Close\n",
       "0  19.692667\n",
       "1  21.739332\n",
       "2  21.075333\n",
       "3  22.257999\n",
       "4  22.186666"
      ]
     },
     "execution_count": 33,
     "metadata": {},
     "output_type": "execute_result"
    }
   ],
   "source": [
    "final_df.head()"
   ]
  },
  {
   "cell_type": "code",
   "execution_count": 34,
   "metadata": {
    "colab": {
     "base_uri": "https://localhost:8080/"
    },
    "id": "meBFR8r7VJ6S",
    "outputId": "a669fd8a-165a-4f63-daeb-d657b77f2f3b"
   },
   "outputs": [
    {
     "data": {
      "text/plain": [
       "array([[0.01949895],\n",
       "       [0.02464082],\n",
       "       [0.02297264],\n",
       "       ...,\n",
       "       [0.4272667 ],\n",
       "       [0.40445484],\n",
       "       [0.40576126]])"
      ]
     },
     "execution_count": 34,
     "metadata": {},
     "output_type": "execute_result"
    }
   ],
   "source": [
    "imput_data = scaler.fit_transform(final_df)\n",
    "imput_data"
   ]
  },
  {
   "cell_type": "code",
   "execution_count": 35,
   "metadata": {
    "colab": {
     "base_uri": "https://localhost:8080/"
    },
    "id": "gh9e0yEPVWtd",
    "outputId": "06cff201-d177-4f47-fd2b-da6e6e00a594"
   },
   "outputs": [
    {
     "data": {
      "text/plain": [
       "(1060, 1)"
      ]
     },
     "execution_count": 35,
     "metadata": {},
     "output_type": "execute_result"
    }
   ],
   "source": [
    "imput_data.shape"
   ]
  },
  {
   "cell_type": "code",
   "execution_count": 36,
   "metadata": {
    "id": "adowFgXhVaF9"
   },
   "outputs": [],
   "source": [
    "X_test = []\n",
    "y_test = []\n",
    "\n",
    "for i in range(100, imput_data.shape[0]):\n",
    "  X_test.append(imput_data[i-100: i])\n",
    "  y_test.append(imput_data[i, 0])"
   ]
  },
  {
   "cell_type": "code",
   "execution_count": 37,
   "metadata": {
    "id": "EiqiSNpjV78z"
   },
   "outputs": [],
   "source": [
    "X_test, y_test = np.array(X_test), np.array(y_test)"
   ]
  },
  {
   "cell_type": "code",
   "execution_count": 38,
   "metadata": {
    "colab": {
     "base_uri": "https://localhost:8080/"
    },
    "id": "Y59079abWFNo",
    "outputId": "951a668f-dfae-4c3b-fd71-c463b8894d38"
   },
   "outputs": [
    {
     "name": "stdout",
     "output_type": "stream",
     "text": [
      "(960, 100, 1)\n",
      "(960,)\n"
     ]
    }
   ],
   "source": [
    "print(X_test.shape)\n",
    "print(y_test.shape)"
   ]
  },
  {
   "cell_type": "markdown",
   "metadata": {
    "id": "TIYa_EdKWLz7"
   },
   "source": [
    "# Prediction making"
   ]
  },
  {
   "cell_type": "code",
   "execution_count": 39,
   "metadata": {
    "colab": {
     "base_uri": "https://localhost:8080/"
    },
    "id": "1WOMnTskWJxQ",
    "outputId": "a4433d3f-8e2c-4372-d249-57b1397122a7"
   },
   "outputs": [
    {
     "name": "stdout",
     "output_type": "stream",
     "text": [
      "30/30 [==============================] - 7s 89ms/step\n"
     ]
    },
    {
     "data": {
      "text/plain": [
       "(960, 1)"
      ]
     },
     "execution_count": 39,
     "metadata": {},
     "output_type": "execute_result"
    }
   ],
   "source": [
    "y_predicted = model.predict(X_test)\n",
    "y_predicted.shape"
   ]
  },
  {
   "cell_type": "code",
   "execution_count": 40,
   "metadata": {
    "colab": {
     "base_uri": "https://localhost:8080/"
    },
    "id": "lPGHIYN2WbO5",
    "outputId": "85eb7093-7ec3-4eed-9b65-48c08a0c1148"
   },
   "outputs": [
    {
     "data": {
      "text/plain": [
       "array([0.00442001, 0.00437311, 0.00230464, 0.0027669 , 0.00195291,\n",
       "       0.00162966, 0.00182395, 0.00154927, 0.00103675, 0.        ,\n",
       "       0.00245035, 0.00295114, 0.00451882, 0.00427597, 0.00567952,\n",
       "       0.00638632, 0.00507321, 0.00585203, 0.00602119, 0.00771449,\n",
       "       0.00766592, 0.00794898, 0.00680838, 0.00718356, 0.00748169,\n",
       "       0.00683184, 0.00674976, 0.0073477 , 0.00745154, 0.00807292,\n",
       "       0.0076341 , 0.0093676 , 0.00906612, 0.00860386, 0.00855696,\n",
       "       0.0100409 , 0.00998731, 0.01107263, 0.01248288, 0.01229529,\n",
       "       0.01271066, 0.01248957, 0.01326672, 0.012848  , 0.01360002,\n",
       "       0.01438889, 0.00834928, 0.00821864, 0.00951332, 0.01060031,\n",
       "       0.01049144, 0.00919174, 0.00927381, 0.00826553, 0.00867253,\n",
       "       0.00911972, 0.00993706, 0.00938602, 0.0083811 , 0.00938435,\n",
       "       0.00680838, 0.00614178, 0.00686198, 0.00801597, 0.00785351,\n",
       "       0.00701105, 0.00723213, 0.00543163, 0.00603459, 0.0058805 ,\n",
       "       0.00613341, 0.00715844, 0.00781164, 0.00771115, 0.00698592,\n",
       "       0.00847656, 0.00811981, 0.00884671, 0.00947479, 0.01141095,\n",
       "       0.01120494, 0.01109273, 0.01069243, 0.01102405, 0.01080633,\n",
       "       0.01132721, 0.01032563, 0.0104278 , 0.00740967, 0.00832918,\n",
       "       0.01065056, 0.01057854, 0.01036751, 0.01100731, 0.01074603,\n",
       "       0.0090544 , 0.00878642, 0.00983992, 0.01023016, 0.01098051,\n",
       "       0.01101568, 0.01154327, 0.01306238, 0.01321815, 0.01352968,\n",
       "       0.0139015 , 0.01306071, 0.01248288, 0.01283125, 0.01268051,\n",
       "       0.02021747, 0.0249825 , 0.02491216, 0.02298772, 0.02278506,\n",
       "       0.02276998, 0.02250033, 0.02319708, 0.02315521, 0.02472289,\n",
       "       0.02622358, 0.02649156, 0.0278231 , 0.02863374, 0.02799393,\n",
       "       0.0285366 , 0.02900891, 0.02864378, 0.03023995, 0.02901728,\n",
       "       0.02945442, 0.02580487, 0.02635757, 0.02511481, 0.02551176,\n",
       "       0.02528565, 0.02611137, 0.02633413, 0.02580319, 0.02535767,\n",
       "       0.02628221, 0.02689186, 0.02845118, 0.02909767, 0.03026674,\n",
       "       0.03005069, 0.03392133, 0.03350094, 0.03587256, 0.03769651,\n",
       "       0.03795611, 0.04023897, 0.04124893, 0.04220193, 0.04210814,\n",
       "       0.03948193, 0.04008991, 0.04208804, 0.04422351, 0.04565218,\n",
       "       0.04858657, 0.05245219, 0.05064332, 0.05010904, 0.05793239,\n",
       "       0.06011979, 0.05686717, 0.05602806, 0.05552727, 0.06167408,\n",
       "       0.06541911, 0.06586128, 0.06462521, 0.06348629, 0.06497358,\n",
       "       0.06733349, 0.07735263, 0.0789873 , 0.10066526, 0.11859652,\n",
       "       0.09307806, 0.09546644, 0.09531738, 0.09920477, 0.09972398,\n",
       "       0.0985365 , 0.10468497, 0.10402005, 0.11379631, 0.12368145,\n",
       "       0.120665  , 0.1209313 , 0.10967443, 0.10399994, 0.10046427,\n",
       "       0.08374898, 0.08190494, 0.09457206, 0.09488861, 0.09555688,\n",
       "       0.09137638, 0.08784909, 0.07185734, 0.07810966, 0.07625055,\n",
       "       0.06391004, 0.06157693, 0.04456854, 0.04207799, 0.03052467,\n",
       "       0.04164922, 0.0416308 , 0.04276302, 0.05460609, 0.06034255,\n",
       "       0.05848511, 0.05617378, 0.0541254 , 0.05778836, 0.05068017,\n",
       "       0.04614292, 0.05042057, 0.05648865, 0.06138098, 0.06194876,\n",
       "       0.06599527, 0.07905095, 0.08892269, 0.0922624 , 0.09483836,\n",
       "       0.09629216, 0.09503097, 0.08504199, 0.09264427, 0.08820919,\n",
       "       0.09147855, 0.10380566, 0.09884299, 0.10410044, 0.10098014,\n",
       "       0.08748731, 0.09751481, 0.09869058, 0.10109738, 0.10067196,\n",
       "       0.10726763, 0.10590596, 0.10559108, 0.10250093, 0.10457275,\n",
       "       0.10387601, 0.10629788, 0.1053566 , 0.10662113, 0.10863769,\n",
       "       0.10684222, 0.10717551, 0.1074033 , 0.10498813, 0.1098771 ,\n",
       "       0.12044559, 0.11767534, 0.11790982, 0.11479789, 0.11836203,\n",
       "       0.12912481, 0.12757555, 0.14170819, 0.13296364, 0.12667279,\n",
       "       0.13598846, 0.1345196 , 0.13613752, 0.13817585, 0.13766335,\n",
       "       0.13656128, 0.13781073, 0.13095544, 0.13516443, 0.13076954,\n",
       "       0.13907862, 0.15087982, 0.15754918, 0.17246063, 0.19974777,\n",
       "       0.20280944, 0.19879309, 0.20354975, 0.2287349 , 0.22076415,\n",
       "       0.22407037, 0.22896267, 0.22136375, 0.22139725, 0.24520733,\n",
       "       0.23270604, 0.23672072, 0.22344562, 0.20735507, 0.22788908,\n",
       "       0.21731893, 0.2211075 , 0.21916129, 0.20965971, 0.21874424,\n",
       "       0.21907921, 0.2187476 , 0.21951134, 0.21333606, 0.20761802,\n",
       "       0.2002184 , 0.2304282 , 0.2415226 , 0.24649866, 0.2774722 ,\n",
       "       0.28608946, 0.28465577, 0.30530703, 0.31337155, 0.30737884,\n",
       "       0.30890967, 0.33065463, 0.34498826, 0.34074243, 0.3873376 ,\n",
       "       0.36785037, 0.34467004, 0.31086261, 0.32034242, 0.24655561,\n",
       "       0.27676205, 0.2809995 , 0.28215516, 0.32143109, 0.34667151,\n",
       "       0.33997198, 0.32462171, 0.34029859, 0.34636165, 0.32529169,\n",
       "       0.28855321, 0.29477539, 0.31114732, 0.32275422, 0.3209705 ,\n",
       "       0.32929462, 0.34533163, 0.31763747, 0.32650595, 0.31670792,\n",
       "       0.32618773, 0.32670694, 0.33347348, 0.34042422, 0.34406707,\n",
       "       0.35633556, 0.34593456, 0.33822176, 0.33081878, 0.32337395,\n",
       "       0.32396016, 0.32659807, 0.32227691, 0.32198381, 0.32566852,\n",
       "       0.3100419 , 0.31406998, 0.29498474, 0.3054276 , 0.32501533,\n",
       "       0.32256999, 0.33689859, 0.33008183, 0.32280448, 0.31367639,\n",
       "       0.31934586, 0.31484879, 0.31211877, 0.3117754 , 0.33984639,\n",
       "       0.37755628, 0.38813316, 0.38004349, 0.40704252, 0.43512187,\n",
       "       0.45071499, 0.46056328, 0.44535538, 0.45972585, 0.44637709,\n",
       "       0.46694459, 0.47168447, 0.50745991, 0.51425991, 0.47624016,\n",
       "       0.49515792, 0.48085446, 0.50584367, 0.50033329, 0.49155692,\n",
       "       0.5193013 , 0.55204521, 0.51424316, 0.50627076, 0.51099389,\n",
       "       0.52421707, 0.52582495, 0.52775109, 0.55186097, 0.56098066,\n",
       "       0.58116297, 0.5856349 , 0.60311226, 0.65340889, 0.70698825,\n",
       "       0.6493473 , 0.68137936, 0.68554147, 0.6776611 , 0.66188375,\n",
       "       0.67728427, 0.68222519, 0.67765275, 0.67903449, 0.70764148,\n",
       "       0.70955923, 0.6937065 , 0.6696468 , 0.63455814, 0.67331484,\n",
       "       0.70093356, 0.68577592, 0.68183992, 0.6837158 , 0.69308678,\n",
       "       0.68139608, 0.64401284, 0.64974092, 0.6534759 , 0.63681085,\n",
       "       0.63842706, 0.62940784, 0.62431619, 0.56837528, 0.55526097,\n",
       "       0.59142159, 0.5413427 , 0.53571514, 0.57166641, 0.54487673,\n",
       "       0.51704023, 0.49044314, 0.47077168, 0.44150318, 0.53410725,\n",
       "       0.52948456, 0.55589741, 0.55098164, 0.56288165, 0.53687078,\n",
       "       0.55774814, 0.51700673, 0.51843873, 0.53110919, 0.52454368,\n",
       "       0.49783772, 0.50631262, 0.48815692, 0.48194313, 0.50231804,\n",
       "       0.52937569, 0.52420032, 0.54873732, 0.54921463, 0.53192151,\n",
       "       0.54266587, 0.53698805, 0.55789052, 0.60842165, 0.58322305,\n",
       "       0.58876694, 0.58954575, 0.56848415, 0.57213536, 0.59318021,\n",
       "       0.57272158, 0.58085311, 0.58822258, 0.56020185, 0.55154271,\n",
       "       0.53697129, 0.56413781, 0.54358706, 0.53412401, 0.5318964 ,\n",
       "       0.52569933, 0.53309395, 0.49680766, 0.48689241, 0.46402193,\n",
       "       0.44878053, 0.46389631, 0.45308497, 0.45395591, 0.44188841,\n",
       "       0.4614175 , 0.45647658, 0.47788155, 0.47641604, 0.48850864,\n",
       "       0.49832346, 0.49360865, 0.49250322, 0.47677612, 0.44974359,\n",
       "       0.47169287, 0.47678452, 0.47549485, 0.47146677, 0.48096333,\n",
       "       0.4807707 , 0.48730274, 0.47195247, 0.47656677, 0.48638995,\n",
       "       0.49200916, 0.48993229, 0.49234413, 0.51986241, 0.53933288,\n",
       "       0.53267521, 0.54678607, 0.54012005, 0.53923237, 0.53774171,\n",
       "       0.53856242, 0.52238309, 0.50988011, 0.51671362, 0.52018063,\n",
       "       0.544257  , 0.52988654, 0.51719096, 0.51486288, 0.50952003,\n",
       "       0.51119488, 0.52315354, 0.51879045, 0.5137407 , 0.50881658,\n",
       "       0.5207417 , 0.50998898, 0.51183135, 0.5372644 , 0.54551316,\n",
       "       0.56433044, 0.56438906, 0.56537722, 0.56848415, 0.55547871,\n",
       "       0.56775556, 0.56459841, 0.56278118, 0.57486542, 0.57061124,\n",
       "       0.54465059, 0.52751659, 0.54701217, 0.53401513, 0.53970132,\n",
       "       0.56150826, 0.56334225, 0.56561171, 0.55720382, 0.56621468,\n",
       "       0.58211767, 0.58614575, 0.58478072, 0.58335707, 0.58434523,\n",
       "       0.60054968, 0.60134524, 0.60217431, 0.58660634, 0.59224231,\n",
       "       0.59349007, 0.60298663, 0.60395808, 0.60605166, 0.58149794,\n",
       "       0.58921078, 0.59972901, 0.60115265, 0.61852953, 0.63274091,\n",
       "       0.62118423, 0.62432463, 0.61944237, 0.61922462, 0.62450887,\n",
       "       0.62372162, 0.62553049, 0.63462515, 0.62782507, 0.63322661,\n",
       "       0.6447665 , 0.64925514, 0.65531827, 0.6760114 , 0.69868928,\n",
       "       0.69379858, 0.69507989, 0.71869567, 0.73182669, 0.828283  ,\n",
       "       0.82289824, 0.83916974, 0.87198062, 0.9029324 , 0.98214581,\n",
       "       0.95150385, 0.98655908, 1.        , 0.99345124, 0.94391667,\n",
       "       0.82714407, 0.86436829, 0.86065003, 0.83545148, 0.81867757,\n",
       "       0.85329732, 0.88200474, 0.88817667, 0.9222437 , 0.93883338,\n",
       "       0.8987703 , 0.90460725, 0.87606735, 0.92218513, 0.92869203,\n",
       "       0.88702102, 0.87831163, 0.82000074, 0.8150096 , 0.85080179,\n",
       "       0.86521412, 0.81064655, 0.82172588, 0.77933465, 0.77271888,\n",
       "       0.78735731, 0.74626417, 0.75099569, 0.72367009, 0.75598683,\n",
       "       0.81489237, 0.86357269, 0.88613334, 0.88155254, 0.87964316,\n",
       "       0.86636976, 0.85501411, 0.97476794, 0.93273682, 0.88125944,\n",
       "       0.86164659, 0.83004165, 0.85613625, 0.86139534, 0.89641707,\n",
       "       0.83389386, 0.84900963, 0.83301453, 0.8038214 , 0.80434061,\n",
       "       0.7604839 , 0.74884349, 0.73912919, 0.75504892, 0.66434585,\n",
       "       0.67879168, 0.75447106, 0.74989027, 0.72846019, 0.71630058,\n",
       "       0.74324943, 0.72986708, 0.742144  , 0.75051835, 0.72753065,\n",
       "       0.6902227 , 0.70342081, 0.74250404, 0.74330801, 0.70391487,\n",
       "       0.68769367, 0.6580064 , 0.609862  , 0.64062119, 0.64824187,\n",
       "       0.69895724, 0.69388231, 0.70687938, 0.67287936, 0.67204189,\n",
       "       0.64381181, 0.66040984, 0.68936016, 0.67205025, 0.63608226,\n",
       "       0.61181325, 0.6415591 , 0.67366653, 0.699937  , 0.72823409,\n",
       "       0.74144056, 0.80242286, 0.80671898, 0.81912141, 0.81637463,\n",
       "       0.88437469, 0.89084815, 0.8861752 , 0.87244961, 0.87830327,\n",
       "       0.92926989, 0.88388898, 0.84578551, 0.85541609, 0.82881057,\n",
       "       0.78730709, 0.79653569, 0.82619781, 0.7949027 , 0.81105689,\n",
       "       0.83103821, 0.78837065, 0.81481701, 0.81169332, 0.80580615,\n",
       "       0.70397352, 0.70823606, 0.70488627, 0.69923356, 0.72618241,\n",
       "       0.73146665, 0.7677864 , 0.70134389, 0.69495423, 0.62918174,\n",
       "       0.64000983, 0.58470535, 0.57968071, 0.61450981, 0.57664079,\n",
       "       0.60782703, 0.56444767, 0.56412106, 0.52600083, 0.53521264,\n",
       "       0.49607075, 0.5217299 , 0.56270581, 0.60616893, 0.6050216 ,\n",
       "       0.59003981, 0.61904039, 0.55920529, 0.56865999, 0.57018415,\n",
       "       0.57767085, 0.57224423, 0.55346046, 0.51202395, 0.52497077,\n",
       "       0.55539495, 0.50539983, 0.51459488, 0.56553635, 0.56314965,\n",
       "       0.56059547, 0.58731814, 0.58534179, 0.55454913, 0.54406441,\n",
       "       0.53397323, 0.54098262, 0.55556244, 0.55221269, 0.58439549,\n",
       "       0.60002211, 0.55876985, 0.55557083, 0.5655447 , 0.56874375,\n",
       "       0.57314867, 0.57435457, 0.5868743 , 0.59182357, 0.65263843,\n",
       "       0.65398675, 0.64441474, 0.62036348, 0.66046014, 0.675735  ,\n",
       "       0.71656018, 0.71687844, 0.72519421, 0.74230309, 0.74540999,\n",
       "       0.69399961, 0.69966068, 0.68184835, 0.70954244, 0.69013062,\n",
       "       0.72379567, 0.74713514, 0.74020947, 0.73376122, 0.73093065,\n",
       "       0.71534589, 0.69837938, 0.71480996, 0.71642624, 0.71384691,\n",
       "       0.69379858, 0.68558333, 0.66769563, 0.66244482, 0.66633896,\n",
       "       0.64887831, 0.65945523, 0.68276954, 0.69673803, 0.72291635,\n",
       "       0.73482479, 0.70394837, 0.73027742, 0.7331415 , 0.73213659,\n",
       "       0.74650706, 0.74565288, 0.72573013, 0.69505474, 0.66174137,\n",
       "       0.66344981, 0.68086016, 0.69309514, 0.64385367, 0.63641723,\n",
       "       0.57901073, 0.59669748, 0.57501616, 0.56828316, 0.53044765,\n",
       "       0.53017129, 0.51394169, 0.51580082, 0.527056  , 0.48502492,\n",
       "       0.52110182, 0.52321216, 0.52785992, 0.49077811, 0.50876632,\n",
       "       0.50075202, 0.52881462, 0.53439197, 0.5355225 , 0.54413978,\n",
       "       0.54167768, 0.54238116, 0.51012296, 0.51095203, 0.49125546,\n",
       "       0.46515247, 0.45063127, 0.41618736, 0.44917412, 0.46236379,\n",
       "       0.44975194, 0.45846969, 0.4396273 , 0.43020611, 0.42271941,\n",
       "       0.39176762, 0.39689277, 0.43028147, 0.42942729, 0.42957803,\n",
       "       0.42432729, 0.45917314, 0.45917314, 0.45957512, 0.42839723,\n",
       "       0.42178986, 0.40726862, 0.40576126, 0.41985536, 0.39164204,\n",
       "       0.37438238, 0.36395627, 0.36614198, 0.34745032, 0.34654588,\n",
       "       0.31622222, 0.31564439, 0.28494384, 0.27941674, 0.24411866,\n",
       "       0.25318813, 0.27607536, 0.27949211, 0.24160634, 0.25552459,\n",
       "       0.24723393, 0.25406744, 0.27092509, 0.26861377, 0.27959261,\n",
       "       0.28044679, 0.27753251, 0.30036949, 0.29356109, 0.28951626,\n",
       "       0.30521825, 0.33117051, 0.33152223, 0.33287886, 0.37267402,\n",
       "       0.41696618, 0.38872774, 0.40520854, 0.42578444, 0.44301895,\n",
       "       0.44731499, 0.45932387, 0.46447413, 0.47572931, 0.49087863,\n",
       "       0.46467512, 0.4590224 , 0.49572738, 0.50826387, 0.47761355,\n",
       "       0.4933658 , 0.46588102, 0.47464903, 0.47768895, 0.46465001,\n",
       "       0.49165744, 0.48683379, 0.47944757, 0.44962632, 0.46693619,\n",
       "       0.45693718, 0.44161205, 0.4272667 , 0.40445484, 0.40576126])"
      ]
     },
     "execution_count": 40,
     "metadata": {},
     "output_type": "execute_result"
    }
   ],
   "source": [
    "y_test"
   ]
  },
  {
   "cell_type": "code",
   "execution_count": 41,
   "metadata": {
    "colab": {
     "base_uri": "https://localhost:8080/"
    },
    "id": "Umetj1buW_AR",
    "outputId": "c9026cc9-7c9d-4f1c-c7ab-4195baa5947c"
   },
   "outputs": [
    {
     "data": {
      "text/plain": [
       "array([[0.04345667],\n",
       "       [0.04338337],\n",
       "       [0.04331571],\n",
       "       [0.0432459 ],\n",
       "       [0.04316899],\n",
       "       [0.04307967],\n",
       "       [0.04297322],\n",
       "       [0.04284786],\n",
       "       [0.04270503],\n",
       "       [0.04254594],\n",
       "       [0.04237258],\n",
       "       [0.04218906],\n",
       "       [0.04200116],\n",
       "       [0.04181609],\n",
       "       [0.04164119],\n",
       "       [0.04148601],\n",
       "       [0.04135802],\n",
       "       [0.04126354],\n",
       "       [0.04120424],\n",
       "       [0.04118299],\n",
       "       [0.04119962],\n",
       "       [0.04125588],\n",
       "       [0.04135042],\n",
       "       [0.0414792 ],\n",
       "       [0.04163706],\n",
       "       [0.04181905],\n",
       "       [0.04201852],\n",
       "       [0.04222865],\n",
       "       [0.04244198],\n",
       "       [0.04265121],\n",
       "       [0.04285061],\n",
       "       [0.04303545],\n",
       "       [0.04320276],\n",
       "       [0.04334983],\n",
       "       [0.04347587],\n",
       "       [0.04357919],\n",
       "       [0.04365945],\n",
       "       [0.04371834],\n",
       "       [0.04375774],\n",
       "       [0.04378134],\n",
       "       [0.04379544],\n",
       "       [0.04380479],\n",
       "       [0.04381537],\n",
       "       [0.04383299],\n",
       "       [0.04386283],\n",
       "       [0.04390742],\n",
       "       [0.04395875],\n",
       "       [0.04401934],\n",
       "       [0.04408476],\n",
       "       [0.04414855],\n",
       "       [0.04420401],\n",
       "       [0.0442484 ],\n",
       "       [0.0442787 ],\n",
       "       [0.04429005],\n",
       "       [0.04428037],\n",
       "       [0.04425013],\n",
       "       [0.0441979 ],\n",
       "       [0.04412612],\n",
       "       [0.04403827],\n",
       "       [0.04393789],\n",
       "       [0.04383138],\n",
       "       [0.04371831],\n",
       "       [0.0436022 ],\n",
       "       [0.04348531],\n",
       "       [0.04336891],\n",
       "       [0.0432567 ],\n",
       "       [0.04315162],\n",
       "       [0.04305628],\n",
       "       [0.04297048],\n",
       "       [0.04289421],\n",
       "       [0.04282561],\n",
       "       [0.04276641],\n",
       "       [0.04271451],\n",
       "       [0.04267085],\n",
       "       [0.04263283],\n",
       "       [0.04260659],\n",
       "       [0.04259661],\n",
       "       [0.04260395],\n",
       "       [0.04262906],\n",
       "       [0.04267125],\n",
       "       [0.04273102],\n",
       "       [0.0428075 ],\n",
       "       [0.04289912],\n",
       "       [0.04300708],\n",
       "       [0.04312938],\n",
       "       [0.04326576],\n",
       "       [0.04341339],\n",
       "       [0.04356682],\n",
       "       [0.04371838],\n",
       "       [0.04386175],\n",
       "       [0.04399008],\n",
       "       [0.04409795],\n",
       "       [0.04418123],\n",
       "       [0.04423794],\n",
       "       [0.04426888],\n",
       "       [0.04427744],\n",
       "       [0.04426494],\n",
       "       [0.04423413],\n",
       "       [0.04418671],\n",
       "       [0.04412708],\n",
       "       [0.04405475],\n",
       "       [0.04397504],\n",
       "       [0.04389469],\n",
       "       [0.04381959],\n",
       "       [0.0437559 ],\n",
       "       [0.04370904],\n",
       "       [0.0436829 ],\n",
       "       [0.0436829 ],\n",
       "       [0.04370826],\n",
       "       [0.04375762],\n",
       "       [0.04382823],\n",
       "       [0.0439207 ],\n",
       "       [0.04403776],\n",
       "       [0.04418781],\n",
       "       [0.04437649],\n",
       "       [0.0446066 ],\n",
       "       [0.04487725],\n",
       "       [0.04518282],\n",
       "       [0.04551646],\n",
       "       [0.04586968],\n",
       "       [0.0462341 ],\n",
       "       [0.04660052],\n",
       "       [0.04696298],\n",
       "       [0.04731447],\n",
       "       [0.04765165],\n",
       "       [0.0479711 ],\n",
       "       [0.048269  ],\n",
       "       [0.04854223],\n",
       "       [0.04878908],\n",
       "       [0.04900841],\n",
       "       [0.04920056],\n",
       "       [0.04936422],\n",
       "       [0.04949886],\n",
       "       [0.04959741],\n",
       "       [0.04966599],\n",
       "       [0.04969996],\n",
       "       [0.04969929],\n",
       "       [0.04966335],\n",
       "       [0.0495954 ],\n",
       "       [0.04949978],\n",
       "       [0.04938078],\n",
       "       [0.04924303],\n",
       "       [0.04909314],\n",
       "       [0.04893799],\n",
       "       [0.04878664],\n",
       "       [0.04864791],\n",
       "       [0.04853144],\n",
       "       [0.04844427],\n",
       "       [0.04839626],\n",
       "       [0.04839593],\n",
       "       [0.04844965],\n",
       "       [0.04856151],\n",
       "       [0.04873461],\n",
       "       [0.04897131],\n",
       "       [0.04926941],\n",
       "       [0.04962531],\n",
       "       [0.0500339 ],\n",
       "       [0.05049309],\n",
       "       [0.05099076],\n",
       "       [0.05151407],\n",
       "       [0.05205086],\n",
       "       [0.05259149],\n",
       "       [0.05313087],\n",
       "       [0.05366732],\n",
       "       [0.05419821],\n",
       "       [0.05472867],\n",
       "       [0.05527085],\n",
       "       [0.05582924],\n",
       "       [0.05640393],\n",
       "       [0.05699196],\n",
       "       [0.05759153],\n",
       "       [0.05820221],\n",
       "       [0.05882582],\n",
       "       [0.05946329],\n",
       "       [0.06011549],\n",
       "       [0.06078367],\n",
       "       [0.06147523],\n",
       "       [0.06223993],\n",
       "       [0.06324825],\n",
       "       [0.06475857],\n",
       "       [0.06717737],\n",
       "       [0.07069376],\n",
       "       [0.0754523 ],\n",
       "       [0.08147496],\n",
       "       [0.08862571],\n",
       "       [0.09667793],\n",
       "       [0.10541393],\n",
       "       [0.11464615],\n",
       "       [0.12432818],\n",
       "       [0.13448393],\n",
       "       [0.14509057],\n",
       "       [0.15605906],\n",
       "       [0.1670393 ],\n",
       "       [0.17795269],\n",
       "       [0.18840118],\n",
       "       [0.19803563],\n",
       "       [0.20662744],\n",
       "       [0.21428256],\n",
       "       [0.2210666 ],\n",
       "       [0.22703281],\n",
       "       [0.2323739 ],\n",
       "       [0.23728442],\n",
       "       [0.24188492],\n",
       "       [0.24620189],\n",
       "       [0.2502238 ],\n",
       "       [0.25391483],\n",
       "       [0.2571521 ],\n",
       "       [0.25991532],\n",
       "       [0.2620743 ],\n",
       "       [0.26342064],\n",
       "       [0.2638203 ],\n",
       "       [0.2629975 ],\n",
       "       [0.26089936],\n",
       "       [0.25700194],\n",
       "       [0.25134683],\n",
       "       [0.2431361 ],\n",
       "       [0.23218438],\n",
       "       [0.21869797],\n",
       "       [0.20338154],\n",
       "       [0.18700019],\n",
       "       [0.1703216 ],\n",
       "       [0.15409878],\n",
       "       [0.13887362],\n",
       "       [0.12506229],\n",
       "       [0.11284425],\n",
       "       [0.1022689 ],\n",
       "       [0.09331685],\n",
       "       [0.08590323],\n",
       "       [0.07991198],\n",
       "       [0.07522313],\n",
       "       [0.0718015 ],\n",
       "       [0.07003421],\n",
       "       [0.07018745],\n",
       "       [0.07229   ],\n",
       "       [0.07626453],\n",
       "       [0.08194661],\n",
       "       [0.08908118],\n",
       "       [0.09731644],\n",
       "       [0.10633947],\n",
       "       [0.11590247],\n",
       "       [0.12594958],\n",
       "       [0.13649994],\n",
       "       [0.14748672],\n",
       "       [0.15872775],\n",
       "       [0.16993035],\n",
       "       [0.18095079],\n",
       "       [0.19137627],\n",
       "       [0.20077293],\n",
       "       [0.20908803],\n",
       "       [0.2164675 ],\n",
       "       [0.22295614],\n",
       "       [0.22866821],\n",
       "       [0.23377903],\n",
       "       [0.23848583],\n",
       "       [0.24290068],\n",
       "       [0.24704365],\n",
       "       [0.25093168],\n",
       "       [0.25451577],\n",
       "       [0.25776204],\n",
       "       [0.26076087],\n",
       "       [0.26357374],\n",
       "       [0.26626664],\n",
       "       [0.2688718 ],\n",
       "       [0.27136767],\n",
       "       [0.27375934],\n",
       "       [0.27609888],\n",
       "       [0.27842516],\n",
       "       [0.28074548],\n",
       "       [0.28304943],\n",
       "       [0.28532237],\n",
       "       [0.2875672 ],\n",
       "       [0.28980383],\n",
       "       [0.29202634],\n",
       "       [0.29423434],\n",
       "       [0.29636252],\n",
       "       [0.2983673 ],\n",
       "       [0.30024466],\n",
       "       [0.30199388],\n",
       "       [0.3036157 ],\n",
       "       [0.30511153],\n",
       "       [0.3064868 ],\n",
       "       [0.30774605],\n",
       "       [0.30889252],\n",
       "       [0.30992997],\n",
       "       [0.3108635 ],\n",
       "       [0.31169817],\n",
       "       [0.31243968],\n",
       "       [0.31309748],\n",
       "       [0.31367847],\n",
       "       [0.31419012],\n",
       "       [0.31464157],\n",
       "       [0.31504238],\n",
       "       [0.31540406],\n",
       "       [0.3157323 ],\n",
       "       [0.31603324],\n",
       "       [0.31631345],\n",
       "       [0.31657478],\n",
       "       [0.316823  ],\n",
       "       [0.31705838],\n",
       "       [0.31727302],\n",
       "       [0.31746486],\n",
       "       [0.3176327 ],\n",
       "       [0.31777573],\n",
       "       [0.31789482],\n",
       "       [0.31799015],\n",
       "       [0.31806225],\n",
       "       [0.3181144 ],\n",
       "       [0.318152  ],\n",
       "       [0.3181776 ],\n",
       "       [0.31819278],\n",
       "       [0.31820035],\n",
       "       [0.31819677],\n",
       "       [0.31818625],\n",
       "       [0.31817517],\n",
       "       [0.31816807],\n",
       "       [0.31818265],\n",
       "       [0.3182528 ],\n",
       "       [0.31840235],\n",
       "       [0.31867447],\n",
       "       [0.3191278 ],\n",
       "       [0.31980073],\n",
       "       [0.3207073 ],\n",
       "       [0.3219062 ],\n",
       "       [0.32350326],\n",
       "       [0.3255464 ],\n",
       "       [0.3284126 ],\n",
       "       [0.3323773 ],\n",
       "       [0.3369986 ],\n",
       "       [0.34148806],\n",
       "       [0.34529415],\n",
       "       [0.34798318],\n",
       "       [0.34951276],\n",
       "       [0.3500088 ],\n",
       "       [0.3496744 ],\n",
       "       [0.34874403],\n",
       "       [0.3474787 ],\n",
       "       [0.34613436],\n",
       "       [0.34487167],\n",
       "       [0.34386188],\n",
       "       [0.3432542 ],\n",
       "       [0.34301716],\n",
       "       [0.34292763],\n",
       "       [0.34281242],\n",
       "       [0.34260142],\n",
       "       [0.34230235],\n",
       "       [0.3419531 ],\n",
       "       [0.34162146],\n",
       "       [0.34144998],\n",
       "       [0.34143022],\n",
       "       [0.34153855],\n",
       "       [0.3417074 ],\n",
       "       [0.3419051 ],\n",
       "       [0.34211844],\n",
       "       [0.3423736 ],\n",
       "       [0.3427308 ],\n",
       "       [0.34325206],\n",
       "       [0.34404272],\n",
       "       [0.3451129 ],\n",
       "       [0.34635997],\n",
       "       [0.34760863],\n",
       "       [0.3486773 ],\n",
       "       [0.34944957],\n",
       "       [0.34988663],\n",
       "       [0.34999013],\n",
       "       [0.34979808],\n",
       "       [0.34937745],\n",
       "       [0.34876618],\n",
       "       [0.34800684],\n",
       "       [0.34710878],\n",
       "       [0.34610033],\n",
       "       [0.34505367],\n",
       "       [0.34404087],\n",
       "       [0.34317303],\n",
       "       [0.34252664],\n",
       "       [0.3421024 ],\n",
       "       [0.34183568],\n",
       "       [0.3416736 ],\n",
       "       [0.34156477],\n",
       "       [0.34146246],\n",
       "       [0.34133348],\n",
       "       [0.3412526 ],\n",
       "       [0.34151033],\n",
       "       [0.3425556 ],\n",
       "       [0.3448487 ],\n",
       "       [0.34925413],\n",
       "       [0.3572201 ],\n",
       "       [0.3701325 ],\n",
       "       [0.3879489 ],\n",
       "       [0.40820274],\n",
       "       [0.4281041 ],\n",
       "       [0.44467518],\n",
       "       [0.45735225],\n",
       "       [0.46645278],\n",
       "       [0.47380584],\n",
       "       [0.48097333],\n",
       "       [0.4868673 ],\n",
       "       [0.49120134],\n",
       "       [0.4934396 ],\n",
       "       [0.49437392],\n",
       "       [0.4945997 ],\n",
       "       [0.4941969 ],\n",
       "       [0.49423516],\n",
       "       [0.49692386],\n",
       "       [0.50133955],\n",
       "       [0.505642  ],\n",
       "       [0.50872725],\n",
       "       [0.51076025],\n",
       "       [0.5121424 ],\n",
       "       [0.51325566],\n",
       "       [0.51537806],\n",
       "       [0.5195379 ],\n",
       "       [0.52697295],\n",
       "       [0.5377635 ],\n",
       "       [0.5513616 ],\n",
       "       [0.56935865],\n",
       "       [0.59383225],\n",
       "       [0.6184225 ],\n",
       "       [0.64018637],\n",
       "       [0.6574315 ],\n",
       "       [0.66872126],\n",
       "       [0.6730211 ],\n",
       "       [0.67252415],\n",
       "       [0.6696782 ],\n",
       "       [0.66604924],\n",
       "       [0.66284627],\n",
       "       [0.66267264],\n",
       "       [0.6664479 ],\n",
       "       [0.67211604],\n",
       "       [0.6760005 ],\n",
       "       [0.674521  ],\n",
       "       [0.67015374],\n",
       "       [0.66696614],\n",
       "       [0.6661457 ],\n",
       "       [0.667364  ],\n",
       "       [0.6698738 ],\n",
       "       [0.67350376],\n",
       "       [0.67687327],\n",
       "       [0.6766412 ],\n",
       "       [0.67274445],\n",
       "       [0.66658443],\n",
       "       [0.6588703 ],\n",
       "       [0.65069854],\n",
       "       [0.64266956],\n",
       "       [0.63515735],\n",
       "       [0.62641144],\n",
       "       [0.615827  ],\n",
       "       [0.60461354],\n",
       "       [0.5927502 ],\n",
       "       [0.5803521 ],\n",
       "       [0.56877136],\n",
       "       [0.55852133],\n",
       "       [0.54911155],\n",
       "       [0.53985775],\n",
       "       [0.5303699 ],\n",
       "       [0.5205082 ],\n",
       "       [0.51108646],\n",
       "       [0.50354755],\n",
       "       [0.5003577 ],\n",
       "       [0.50323045],\n",
       "       [0.51245594],\n",
       "       [0.5243012 ],\n",
       "       [0.53619844],\n",
       "       [0.5437645 ],\n",
       "       [0.54607916],\n",
       "       [0.5442618 ],\n",
       "       [0.53964114],\n",
       "       [0.53295606],\n",
       "       [0.5251525 ],\n",
       "       [0.5167863 ],\n",
       "       [0.50828266],\n",
       "       [0.50031185],\n",
       "       [0.49427474],\n",
       "       [0.4914484 ],\n",
       "       [0.49356925],\n",
       "       [0.50084007],\n",
       "       [0.5107454 ],\n",
       "       [0.52105355],\n",
       "       [0.52955985],\n",
       "       [0.5363325 ],\n",
       "       [0.5447308 ],\n",
       "       [0.5542882 ],\n",
       "       [0.56372094],\n",
       "       [0.57165074],\n",
       "       [0.57590926],\n",
       "       [0.5764395 ],\n",
       "       [0.5750164 ],\n",
       "       [0.572101  ],\n",
       "       [0.5685672 ],\n",
       "       [0.56549627],\n",
       "       [0.5622101 ],\n",
       "       [0.55800843],\n",
       "       [0.55251586],\n",
       "       [0.54673535],\n",
       "       [0.54106086],\n",
       "       [0.5355506 ],\n",
       "       [0.53027207],\n",
       "       [0.5252346 ],\n",
       "       [0.5208287 ],\n",
       "       [0.5163661 ],\n",
       "       [0.511388  ],\n",
       "       [0.5056455 ],\n",
       "       [0.49910414],\n",
       "       [0.4920456 ],\n",
       "       [0.48474345],\n",
       "       [0.47750083],\n",
       "       [0.4703701 ],\n",
       "       [0.46361428],\n",
       "       [0.45767945],\n",
       "       [0.45357412],\n",
       "       [0.4523847 ],\n",
       "       [0.4549289 ],\n",
       "       [0.46140784],\n",
       "       [0.47032204],\n",
       "       [0.4796936 ],\n",
       "       [0.48721796],\n",
       "       [0.49101996],\n",
       "       [0.49137676],\n",
       "       [0.48938   ],\n",
       "       [0.48605767],\n",
       "       [0.48219094],\n",
       "       [0.47859597],\n",
       "       [0.4758633 ],\n",
       "       [0.47447377],\n",
       "       [0.4740947 ],\n",
       "       [0.47435686],\n",
       "       [0.47527963],\n",
       "       [0.47702852],\n",
       "       [0.4794389 ],\n",
       "       [0.48224634],\n",
       "       [0.4862671 ],\n",
       "       [0.4926414 ],\n",
       "       [0.5010693 ],\n",
       "       [0.5112291 ],\n",
       "       [0.5214188 ],\n",
       "       [0.52986515],\n",
       "       [0.5356003 ],\n",
       "       [0.5385664 ],\n",
       "       [0.5384006 ],\n",
       "       [0.53515595],\n",
       "       [0.52979857],\n",
       "       [0.52341485],\n",
       "       [0.51767826],\n",
       "       [0.5134834 ],\n",
       "       [0.51065505],\n",
       "       [0.50872153],\n",
       "       [0.50710475],\n",
       "       [0.50555855],\n",
       "       [0.5044914 ],\n",
       "       [0.50408626],\n",
       "       [0.5041429 ],\n",
       "       [0.5042174 ],\n",
       "       [0.5045221 ],\n",
       "       [0.50478435],\n",
       "       [0.5048783 ],\n",
       "       [0.5058595 ],\n",
       "       [0.5087149 ],\n",
       "       [0.51451975],\n",
       "       [0.523239  ],\n",
       "       [0.5336491 ],\n",
       "       [0.5440022 ],\n",
       "       [0.5518737 ],\n",
       "       [0.55689025],\n",
       "       [0.55925083],\n",
       "       [0.5592921 ],\n",
       "       [0.55816436],\n",
       "       [0.55655986],\n",
       "       [0.5537332 ],\n",
       "       [0.54908407],\n",
       "       [0.54333436],\n",
       "       [0.5370112 ],\n",
       "       [0.5308405 ],\n",
       "       [0.5262864 ],\n",
       "       [0.52465117],\n",
       "       [0.52645636],\n",
       "       [0.53062344],\n",
       "       [0.53620195],\n",
       "       [0.54305065],\n",
       "       [0.55092794],\n",
       "       [0.5588411 ],\n",
       "       [0.56557393],\n",
       "       [0.5703979 ],\n",
       "       [0.57411325],\n",
       "       [0.57725513],\n",
       "       [0.58001125],\n",
       "       [0.58139646],\n",
       "       [0.5814096 ],\n",
       "       [0.5804349 ],\n",
       "       [0.5794375 ],\n",
       "       [0.5791    ],\n",
       "       [0.57976705],\n",
       "       [0.5799435 ],\n",
       "       [0.5792736 ],\n",
       "       [0.57842016],\n",
       "       [0.5780308 ],\n",
       "       [0.5793986 ],\n",
       "       [0.58379334],\n",
       "       [0.59027016],\n",
       "       [0.5974065 ],\n",
       "       [0.6035411 ],\n",
       "       [0.60773265],\n",
       "       [0.61016536],\n",
       "       [0.6112613 ],\n",
       "       [0.6115595 ],\n",
       "       [0.6120576 ],\n",
       "       [0.61275864],\n",
       "       [0.6138466 ],\n",
       "       [0.6160226 ],\n",
       "       [0.61966395],\n",
       "       [0.62476194],\n",
       "       [0.63210076],\n",
       "       [0.6428172 ],\n",
       "       [0.6554384 ],\n",
       "       [0.6677784 ],\n",
       "       [0.67978925],\n",
       "       [0.6917508 ],\n",
       "       [0.70948434],\n",
       "       [0.7327272 ],\n",
       "       [0.7588245 ],\n",
       "       [0.78590184],\n",
       "       [0.81278384],\n",
       "       [0.84240764],\n",
       "       [0.86905783],\n",
       "       [0.89165264],\n",
       "       [0.90966773],\n",
       "       [0.92122966],\n",
       "       [0.9218421 ],\n",
       "       [0.9088997 ],\n",
       "       [0.8892243 ],\n",
       "       [0.8673163 ],\n",
       "       [0.8455755 ],\n",
       "       [0.8256448 ],\n",
       "       [0.8113482 ],\n",
       "       [0.807077  ],\n",
       "       [0.81401795],\n",
       "       [0.83117145],\n",
       "       [0.8545247 ],\n",
       "       [0.87465364],\n",
       "       [0.8877047 ],\n",
       "       [0.89065325],\n",
       "       [0.8894871 ],\n",
       "       [0.88790065],\n",
       "       [0.8837654 ],\n",
       "       [0.8769124 ],\n",
       "       [0.86552817],\n",
       "       [0.85096335],\n",
       "       [0.8371781 ],\n",
       "       [0.82836974],\n",
       "       [0.822421  ],\n",
       "       [0.8188556 ],\n",
       "       [0.81412274],\n",
       "       [0.8072569 ],\n",
       "       [0.80002457],\n",
       "       [0.79133457],\n",
       "       [0.781932  ],\n",
       "       [0.7714191 ],\n",
       "       [0.76241475],\n",
       "       [0.7602655 ],\n",
       "       [0.7696238 ],\n",
       "       [0.7900265 ],\n",
       "       [0.8155895 ],\n",
       "       [0.8395275 ],\n",
       "       [0.8559946 ],\n",
       "       [0.86264664],\n",
       "       [0.87063134],\n",
       "       [0.8790844 ],\n",
       "       [0.8817082 ],\n",
       "       [0.8764531 ],\n",
       "       [0.8645032 ],\n",
       "       [0.85034686],\n",
       "       [0.8377276 ],\n",
       "       [0.8319584 ],\n",
       "       [0.82942516],\n",
       "       [0.82912636],\n",
       "       [0.82899076],\n",
       "       [0.8261652 ],\n",
       "       [0.8208282 ],\n",
       "       [0.811583  ],\n",
       "       [0.79921836],\n",
       "       [0.78502864],\n",
       "       [0.77166325],\n",
       "       [0.7571288 ],\n",
       "       [0.7417403 ],\n",
       "       [0.7298932 ],\n",
       "       [0.7251185 ],\n",
       "       [0.7262336 ],\n",
       "       [0.72980356],\n",
       "       [0.73504215],\n",
       "       [0.73977655],\n",
       "       [0.74364245],\n",
       "       [0.7469817 ],\n",
       "       [0.7480312 ],\n",
       "       [0.74384373],\n",
       "       [0.73581356],\n",
       "       [0.7284775 ],\n",
       "       [0.7244439 ],\n",
       "       [0.72165775],\n",
       "       [0.717721  ],\n",
       "       [0.71034676],\n",
       "       [0.6989058 ],\n",
       "       [0.68505275],\n",
       "       [0.6707909 ],\n",
       "       [0.66054034],\n",
       "       [0.6575887 ],\n",
       "       [0.66281   ],\n",
       "       [0.6714934 ],\n",
       "       [0.67921627],\n",
       "       [0.6818745 ],\n",
       "       [0.6800332 ],\n",
       "       [0.6771835 ],\n",
       "       [0.67434454],\n",
       "       [0.66973084],\n",
       "       [0.661921  ],\n",
       "       [0.65269214],\n",
       "       [0.64565754],\n",
       "       [0.6449121 ],\n",
       "       [0.65327656],\n",
       "       [0.67012453],\n",
       "       [0.69542277],\n",
       "       [0.72535115],\n",
       "       [0.75522935],\n",
       "       [0.78009915],\n",
       "       [0.80279666],\n",
       "       [0.8233451 ],\n",
       "       [0.8395484 ],\n",
       "       [0.8487562 ],\n",
       "       [0.85163385],\n",
       "       [0.8544677 ],\n",
       "       [0.85514075],\n",
       "       [0.85042834],\n",
       "       [0.8424151 ],\n",
       "       [0.831915  ],\n",
       "       [0.81894886],\n",
       "       [0.8052955 ],\n",
       "       [0.7949005 ],\n",
       "       [0.7881284 ],\n",
       "       [0.7860082 ],\n",
       "       [0.7896411 ],\n",
       "       [0.7943995 ],\n",
       "       [0.7996056 ],\n",
       "       [0.8042628 ],\n",
       "       [0.8072444 ],\n",
       "       [0.80201024],\n",
       "       [0.7899231 ],\n",
       "       [0.77351004],\n",
       "       [0.75521886],\n",
       "       [0.7380972 ],\n",
       "       [0.7253648 ],\n",
       "       [0.7212801 ],\n",
       "       [0.72164345],\n",
       "       [0.7223291 ],\n",
       "       [0.7177556 ],\n",
       "       [0.70818055],\n",
       "       [0.6942767 ],\n",
       "       [0.67730844],\n",
       "       [0.65919495],\n",
       "       [0.6409178 ],\n",
       "       [0.6242018 ],\n",
       "       [0.6092877 ],\n",
       "       [0.59621966],\n",
       "       [0.5839743 ],\n",
       "       [0.57218087],\n",
       "       [0.5603576 ],\n",
       "       [0.548787  ],\n",
       "       [0.53895193],\n",
       "       [0.53439057],\n",
       "       [0.5381739 ],\n",
       "       [0.5491349 ],\n",
       "       [0.5654502 ],\n",
       "       [0.5793525 ],\n",
       "       [0.58707774],\n",
       "       [0.5886736 ],\n",
       "       [0.5860542 ],\n",
       "       [0.5807947 ],\n",
       "       [0.5736578 ],\n",
       "       [0.5646651 ],\n",
       "       [0.5544485 ],\n",
       "       [0.5443295 ],\n",
       "       [0.5345088 ],\n",
       "       [0.52527845],\n",
       "       [0.5183401 ],\n",
       "       [0.5155878 ],\n",
       "       [0.5178085 ],\n",
       "       [0.5257158 ],\n",
       "       [0.5382281 ],\n",
       "       [0.55033296],\n",
       "       [0.5579769 ],\n",
       "       [0.56002474],\n",
       "       [0.55755866],\n",
       "       [0.5525928 ],\n",
       "       [0.5467679 ],\n",
       "       [0.5425926 ],\n",
       "       [0.54273   ],\n",
       "       [0.545459  ],\n",
       "       [0.5484687 ],\n",
       "       [0.5507935 ],\n",
       "       [0.55228126],\n",
       "       [0.55327356],\n",
       "       [0.55410784],\n",
       "       [0.5556036 ],\n",
       "       [0.5582893 ],\n",
       "       [0.56598306],\n",
       "       [0.5799467 ],\n",
       "       [0.5971964 ],\n",
       "       [0.6120511 ],\n",
       "       [0.6242682 ],\n",
       "       [0.6350701 ],\n",
       "       [0.6478099 ],\n",
       "       [0.66266555],\n",
       "       [0.67839026],\n",
       "       [0.6941608 ],\n",
       "       [0.70852625],\n",
       "       [0.7159684 ],\n",
       "       [0.7160919 ],\n",
       "       [0.70990086],\n",
       "       [0.701491  ],\n",
       "       [0.69268715],\n",
       "       [0.68704545],\n",
       "       [0.6878966 ],\n",
       "       [0.6949956 ],\n",
       "       [0.7052365 ],\n",
       "       [0.7152185 ],\n",
       "       [0.7216354 ],\n",
       "       [0.7226641 ],\n",
       "       [0.7200835 ],\n",
       "       [0.7160169 ],\n",
       "       [0.71191967],\n",
       "       [0.70739174],\n",
       "       [0.7020443 ],\n",
       "       [0.69515216],\n",
       "       [0.6869366 ],\n",
       "       [0.67858636],\n",
       "       [0.6702905 ],\n",
       "       [0.6631647 ],\n",
       "       [0.65943736],\n",
       "       [0.6608211 ],\n",
       "       [0.6689538 ],\n",
       "       [0.68314564],\n",
       "       [0.6976506 ],\n",
       "       [0.7104951 ],\n",
       "       [0.7206181 ],\n",
       "       [0.7274256 ],\n",
       "       [0.7320586 ],\n",
       "       [0.7350745 ],\n",
       "       [0.73532814],\n",
       "       [0.7308576 ],\n",
       "       [0.7212709 ],\n",
       "       [0.70825386],\n",
       "       [0.6943143 ],\n",
       "       [0.6824944 ],\n",
       "       [0.67220694],\n",
       "       [0.6627251 ],\n",
       "       [0.6520564 ],\n",
       "       [0.6402064 ],\n",
       "       [0.6272888 ],\n",
       "       [0.6137514 ],\n",
       "       [0.5996096 ],\n",
       "       [0.5852019 ],\n",
       "       [0.57084936],\n",
       "       [0.5569459 ],\n",
       "       [0.54413664],\n",
       "       [0.53238475],\n",
       "       [0.5222307 ],\n",
       "       [0.51442826],\n",
       "       [0.5097052 ],\n",
       "       [0.50693905],\n",
       "       [0.5054879 ],\n",
       "       [0.5045817 ],\n",
       "       [0.5048299 ],\n",
       "       [0.50689924],\n",
       "       [0.51080614],\n",
       "       [0.5163227 ],\n",
       "       [0.5225717 ],\n",
       "       [0.52854335],\n",
       "       [0.5319035 ],\n",
       "       [0.5318873 ],\n",
       "       [0.52856135],\n",
       "       [0.5225333 ],\n",
       "       [0.5145947 ],\n",
       "       [0.5054724 ],\n",
       "       [0.4957149 ],\n",
       "       [0.48589385],\n",
       "       [0.47631124],\n",
       "       [0.46724558],\n",
       "       [0.45894542],\n",
       "       [0.45149428],\n",
       "       [0.44482148],\n",
       "       [0.43855888],\n",
       "       [0.43244243],\n",
       "       [0.42665467],\n",
       "       [0.421585  ],\n",
       "       [0.4176395 ],\n",
       "       [0.41500217],\n",
       "       [0.41461632],\n",
       "       [0.41742498],\n",
       "       [0.42353997],\n",
       "       [0.430793  ],\n",
       "       [0.43702587],\n",
       "       [0.440923  ],\n",
       "       [0.44211668],\n",
       "       [0.4409433 ],\n",
       "       [0.43777972],\n",
       "       [0.432971  ],\n",
       "       [0.42694682],\n",
       "       [0.4201666 ],\n",
       "       [0.41299957],\n",
       "       [0.4057321 ],\n",
       "       [0.3985489 ],\n",
       "       [0.39158028],\n",
       "       [0.38489845],\n",
       "       [0.37855121],\n",
       "       [0.37255812],\n",
       "       [0.3669554 ],\n",
       "       [0.36176115],\n",
       "       [0.3569911 ],\n",
       "       [0.35263896],\n",
       "       [0.34869534],\n",
       "       [0.34514162],\n",
       "       [0.34195837],\n",
       "       [0.33913282],\n",
       "       [0.3366506 ],\n",
       "       [0.33449933],\n",
       "       [0.33266386],\n",
       "       [0.33112556],\n",
       "       [0.3298794 ],\n",
       "       [0.3289131 ],\n",
       "       [0.3282085 ],\n",
       "       [0.32775852],\n",
       "       [0.3276204 ],\n",
       "       [0.3278704 ],\n",
       "       [0.32855552],\n",
       "       [0.3299005 ],\n",
       "       [0.33285454],\n",
       "       [0.33815786],\n",
       "       [0.34633905],\n",
       "       [0.35794818],\n",
       "       [0.37318456],\n",
       "       [0.391131  ],\n",
       "       [0.41052765],\n",
       "       [0.42954317],\n",
       "       [0.4466997 ],\n",
       "       [0.46165156],\n",
       "       [0.47300482],\n",
       "       [0.4799739 ],\n",
       "       [0.48386437],\n",
       "       [0.4864889 ],\n",
       "       [0.48788226],\n",
       "       [0.48848063],\n",
       "       [0.48774743],\n",
       "       [0.48580968],\n",
       "       [0.4831311 ],\n",
       "       [0.47991258],\n",
       "       [0.47704118],\n",
       "       [0.4751573 ],\n",
       "       [0.47431636],\n",
       "       [0.473462  ],\n",
       "       [0.47232664],\n",
       "       [0.47069174],\n",
       "       [0.4681877 ],\n",
       "       [0.46463814],\n",
       "       [0.45989576]], dtype=float32)"
      ]
     },
     "execution_count": 41,
     "metadata": {},
     "output_type": "execute_result"
    }
   ],
   "source": [
    "y_predicted"
   ]
  },
  {
   "cell_type": "code",
   "execution_count": 42,
   "metadata": {
    "colab": {
     "base_uri": "https://localhost:8080/"
    },
    "id": "p1Urgi0YXBi5",
    "outputId": "f0dbb284-590f-4085-e04d-9bfedd6e6591"
   },
   "outputs": [
    {
     "data": {
      "text/plain": [
       "array([0.00251232])"
      ]
     },
     "execution_count": 42,
     "metadata": {},
     "output_type": "execute_result"
    }
   ],
   "source": [
    "scaler.scale_"
   ]
  },
  {
   "cell_type": "code",
   "execution_count": 43,
   "metadata": {
    "id": "gQW8B4NfXH3i"
   },
   "outputs": [],
   "source": [
    "scale_factor = 1/0.00251232"
   ]
  },
  {
   "cell_type": "code",
   "execution_count": 44,
   "metadata": {
    "id": "CcMQc8eiXOdX"
   },
   "outputs": [],
   "source": [
    "y_predicted = y_predicted*scale_factor\n",
    "y_test = y_test*scale_factor"
   ]
  },
  {
   "cell_type": "code",
   "execution_count": 45,
   "metadata": {
    "colab": {
     "base_uri": "https://localhost:8080/",
     "height": 344
    },
    "id": "wvYvRQV0Xbcy",
    "outputId": "e24aaac3-da6a-4af0-b363-71caeb6317e7"
   },
   "outputs": [
    {
     "data": {
      "image/png": "[encoded data removed]",
      "text/plain": [
       "<Figure size 1200x600 with 1 Axes>"
      ]
     },
     "metadata": {},
     "output_type": "display_data"
    }
   ],
   "source": [
    "plt.figure(figsize=(12,6))\n",
    "plt.plot(y_test, 'b', label='Original Price')\n",
    "plt.plot(y_predicted, 'r', label='Predicted Price')\n",
    "plt.xlabel('Time')\n",
    "plt.ylabel('Price')\n",
    "plt.legend()\n",
    "plt.show()"
   ]
  },
  {
   "cell_type": "code",
   "execution_count": null,
   "metadata": {
    "id": "-5muL1y6X8Dc"
   },
   "outputs": [],
   "source": []
  }
 ],
 "metadata": {
  "colab": {
   "provenance": []
  },
  "kernelspec": {
   "display_name": "Python 3 (ipykernel)",
   "language": "python",
   "name": "python3"
  },
  "language_info": {
   "codemirror_mode": {
    "name": "ipython",
    "version": 3
   },
   "file_extension": ".py",
   "mimetype": "text/x-python",
   "name": "python",
   "nbconvert_exporter": "python",
   "pygments_lexer": "ipython3",
   "version": "3.9.13"
  }
 },
 "nbformat": 4,
 "nbformat_minor": 1
}
